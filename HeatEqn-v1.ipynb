{
 "cells": [
  {
   "cell_type": "code",
   "execution_count": 2,
   "metadata": {
    "collapsed": true
   },
   "outputs": [],
   "source": [
    "import numpy as np"
   ]
  },
  {
   "cell_type": "markdown",
   "metadata": {},
   "source": [
    "# Numerical Solution of 1D Heat Equation \n",
    "\n",
    "(This is warm-up for callable bond pricing -- the relvent equation there is also a parabolic PDE.)\n",
    "\n",
    "We aim to solve\n",
    "$$\\begin{gather}\n",
    "u_t = a u_{xx} \\\\\n",
    " x\\in [0,L] \\\\\n",
    " t\\in [0,T] \\\\\n",
    " u(0,x) = f(x) \\\\\n",
    " u(t,0) = l(x) \\\\\n",
    " u(t,L) = r(x)\n",
    "\\end{gather}$$\n",
    "\n",
    "We'll do this via the Crank-Nicolson discretization scheme. \n",
    "\n",
    "## Index Notation\n",
    "\n",
    "$$\n",
    "  u_{i,j} = u(i\\Delta_t, j\\Delta_x),\\qquad i=1,\\dots,n,\\, j=1,\\dots,m.\n",
    "$$\n",
    "Since $n\\Delta_t=T$ we have $\\Delta_t=T/n$. Simlarly $\\Delta_x=L/m$.\n",
    "\n",
    "## Discretization\n",
    "1. Time derivative is centered midway between $i$ and $i+1$:\n",
    "$$\n",
    "   u_t\\bigr|_{((i+0.5)\\Delta_t, j\\Delta_x)} = \\frac{u_{i+1,j} - u_{i,j}}{\\Delta_t} + O(\\Delta_t^2)\n",
    "$$\n",
    "1. Space derivative is average of the second-order differences at $i$ and $i+1$:\n",
    "$$\n",
    "  u_{xx}\\bigr|_{((i+0.5)\\Delta_t, j\\Delta_x)} = \\frac 12\\left[ \n",
    "      \\frac {u_{i,j+1} - 2u_{i,j} + u_{i,j-1} }{\\Delta_x^2} + \\frac {u_{i+1,j+1} - 2u_{i+1,j} + u_{i+1,j-1}}{\\Delta_x^2} \n",
    "  \\right] + O(\\Delta_x^2)\n",
    "$$\n",
    "1. Dropping the error terms and putting into the PDE gives:\n",
    "$$\n",
    "   \\frac{u_{i+1,j} - u_{i,j}}{\\Delta_t} = \\frac a2\\left[ \n",
    "      \\frac {u_{i,j+1} - 2u_{i,j} + u_{i,j-1} }{\\Delta_x^2} + \\frac {u_{i+1,j+1} - 2u_{i+1,j} + u_{i+1,j-1}}{\\Delta_x^2} \n",
    "  \\right]\n",
    "$$\n",
    "1. Let $\\gamma=\\frac a2 \\frac {\\Delta_t}{\\Delta_x^2}$:\n",
    "$$\n",
    "u_{i+1,j} - u_{i,j} = \\gamma\\left[ \n",
    "      u_{i,j+1} - 2u_{i,j} + u_{i,j-1}  + u_{i+1,j+1} - 2u_{i+1,j} + u_{i+1,j-1} \n",
    "  \\right]\n",
    "$$\n",
    "1. Now collect the $i+1$ terms on the LHS:\n",
    "$$\n",
    "u_{i+1,j} -\\gamma\\left[u_{i+1,j+1} - 2u_{i+1,j} + u_{i+1,j-1}\\right]  = u_{i,j} + \\gamma\\left[ \n",
    "      u_{i,j+1} - 2u_{i,j} + u_{i,j-1}   \n",
    "  \\right]\n",
    "$$\n",
    "1. Collecting futher on the $u$ terms:\n",
    "$$\n",
    " -\\gamma u_{i+1,j-1} + (1+2\\gamma)u_{i+1,j} -\\gamma u_{i+1,j+1} = \n",
    "  \\gamma u_{i,j-1} + (1-2\\gamma)u_{i,j} + \\gamma u_{i,j+1} \n",
    "$$\n",
    "\n",
    "This is a tri-diagonal matrix equation, which is efficiently solved.\n",
    "\n",
    "## Boundary Conditions\n",
    "\n",
    "Recall that \n",
    "* $u_{0,j}=f(k\\Delta_x)$\n",
    "\n",
    "* $u_{i,0}=l(i\\Delta_t)$\n",
    "\n",
    "* $u_{i,m}=r(i\\Delta_t)$\n",
    "\n",
    "Let's look at solving $i=1$. The RHS here are known.\n",
    "\n",
    "* $j=0$: $u_{1,0} = l(\\Delta_t)$ (already known!)\n",
    "\n",
    "* $j=1$: $ -\\gamma u_{1,0} + (1+2\\gamma)u_{1,1} -\\gamma u_{1,2} = \\gamma u_{0,0} + (1-2\\gamma)u_{0,1} + \\gamma u_{0,2}$\n",
    "\n",
    "* $j=2$: $ -\\gamma u_{1,1} + (1+2\\gamma)u_{1,2} -\\gamma u_{1,3} = \\gamma u_{0,1} + (1-2\\gamma)u_{0,2} + \\gamma u_{0,3}$\n",
    "\n",
    "* $j=m-1$: $ -\\gamma u_{1,m-2} + (1+2\\gamma)u_{1,m-1} -\\gamma u_{1,m} = \\gamma u_{0,m-2} + (1-2\\gamma)u_{0,m-1} + \\gamma u_{0,m}$ ($u_{1,m}$ is known!)\n",
    "\n",
    "So to summarize, we have $m-1$ unknowns, $u_{1,j}\\,j=1,\\dots,m-1$. Let\n",
    "$$\n",
    "{\\bf u_i} \\equiv \\left[ \\begin{matrix} u_{i,1} \\\\ u_{i,2} \\\\ \\vdots \\\\ u_{i,m-1} \\end{matrix} \\right]\n",
    "$$\n",
    "\n",
    "In matrix form we then have\n",
    "$$\n",
    " A{\\bf u_1} = B{\\bf u_0} + {\\bf c_0}\n",
    "$$\n",
    "where \n",
    "$$\n",
    "A = \\left[    \n",
    "\\begin{matrix}\n",
    "1+2\\gamma & -\\gamma & 0 & \\dots & 0 \\\\\n",
    "-\\gamma & 1+2\\gamma & -\\gamma & \\dots & 0 \\\\\n",
    "0 & \\ddots & \\ddots & \\ddots & 0 \\\\\n",
    "0 & 0& 0 &-\\gamma & 1+2\\gamma\n",
    "\\end{matrix}\n",
    "\\right]\n",
    "$$\n",
    "and\n",
    "$$\n",
    "B = \\left[    \n",
    "\\begin{matrix}\n",
    "1-2\\gamma & \\gamma & 0 & \\dots & 0 \\\\\n",
    "\\gamma & 1-2\\gamma & \\gamma & \\dots & 0 \\\\\n",
    "0 & \\ddots & \\ddots & \\ddots & 0 \\\\\n",
    "0 & 0& 0 &\\gamma & 1-2\\gamma\n",
    "\\end{matrix}\n",
    "\\right]\n",
    "$$\n",
    "and\n",
    "$$\n",
    " {\\bf c_0} = \\left[\n",
    "  \\begin{matrix}\n",
    "  \\gamma (u_{1,0}+u_{0,0}) \\\\\n",
    "  0 \\\\\n",
    "  \\vdots \\\\\n",
    "  0 \\\\\n",
    "  \\gamma (u_{1,m}+u_{0,m})\n",
    "  \\end{matrix}\n",
    " \\right]\n",
    "$$"
   ]
  },
  {
   "cell_type": "code",
   "execution_count": 54,
   "metadata": {},
   "outputs": [
    {
     "name": "stdout",
     "output_type": "stream",
     "text": [
      "19.999999999999996\n"
     ]
    }
   ],
   "source": [
    "a = 1\n",
    "L = 1\n",
    "T = 1\n",
    "n = 40 # time steps\n",
    "m = 40 # space steps\n",
    "dt = T/n\n",
    "dx = L/m\n",
    "gam = 0.5*a*dt/dx**2\n",
    "print(gam)\n",
    "\n",
    "def f(x):\n",
    "    return np.sin(0.5*x*np.pi)\n",
    "\n",
    "def l(t):\n",
    "    return f(0)*np.ones(len(t))\n",
    "\n",
    "def r(t):\n",
    "    return f(1)*np.ones(len(t))"
   ]
  },
  {
   "cell_type": "code",
   "execution_count": 55,
   "metadata": {},
   "outputs": [],
   "source": [
    "# u(t,x)\n",
    "xi = np.linspace(0,L,m+1)\n",
    "ti = np.linspace(0,T,n+1)\n",
    "u = np.zeros( (n+1, m+1) )\n",
    "\n",
    "# Boundary conditions\n",
    "u[0,:] = f(xi)\n",
    "u[:,0] = l(ti)\n",
    "u[:,-1] = r(ti)\n",
    "\n",
    "# Pre-compute A and B, initialize c\n",
    "A = np.diag(1+2*gam*np.ones(m-1)) + np.diag(-gam*np.ones(m-2) ,-1) + np.diag(-gam*np.ones(m-2), 1)\n",
    "B = np.diag(1-2*gam*np.ones(m-1)) + np.diag(gam*np.ones(m-2) ,-1) + np.diag(gam*np.ones(m-2), 1)\n",
    "c = np.zeros(m-1)"
   ]
  },
  {
   "cell_type": "code",
   "execution_count": 56,
   "metadata": {
    "collapsed": true
   },
   "outputs": [],
   "source": [
    "# Iteratively solve\n",
    "for i in range(1,n+1):\n",
    "    #print('i=%d'%i)\n",
    "    c[0] = gam*(u[i-1,0] + u[i,0])\n",
    "    c[-1] = gam*(u[i-1,-1] + u[i,-1])    \n",
    "    u[i,1:-1] = np.linalg.solve(A,B.dot(u[i-1,1:-1])+c)"
   ]
  },
  {
   "cell_type": "code",
   "execution_count": 11,
   "metadata": {},
   "outputs": [
    {
     "data": {
      "text/plain": [
       "array([[ 0.        ,  0.01      ,  0.04      ,  0.09      ,  0.16      ,\n",
       "         0.25      ,  0.36      ,  0.49      ,  0.64      ,  0.81      ,\n",
       "         1.        ],\n",
       "       [ 0.        ,  0.07950535,  0.15291178,  0.22890055,  0.31266944,\n",
       "         0.40697222,  0.51266944,  0.62890055,  0.75291178,  0.87950535,\n",
       "         1.        ],\n",
       "       [ 0.        ,  0.08598624,  0.1793676 ,  0.27545776,  0.37307925,\n",
       "         0.47224881,  0.57307925,  0.67545776,  0.7793676 ,  0.88598624,\n",
       "         1.        ],\n",
       "       [ 0.        ,  0.10002118,  0.19545424,  0.29139582,  0.38899369,\n",
       "         0.48822637,  0.58899369,  0.69139582,  0.79545424,  0.90002118,\n",
       "         1.        ],\n",
       "       [ 0.        ,  0.0965927 ,  0.19708782,  0.29740114,  0.39725924,\n",
       "         0.49713563,  0.59725924,  0.69740114,  0.79708782,  0.8965927 ,\n",
       "         1.        ],\n",
       "       [ 0.        ,  0.10131053,  0.1996622 ,  0.29871056,  0.39847601,\n",
       "         0.49846653,  0.59847601,  0.69871056,  0.7996622 ,  0.90131053,\n",
       "         1.        ],\n",
       "       [ 0.        ,  0.09860486,  0.19962743,  0.29994638,  0.39979538,\n",
       "         0.4996832 ,  0.59979538,  0.69994638,  0.79962743,  0.89860486,\n",
       "         1.        ],\n",
       "       [ 0.        ,  0.10092658,  0.19989978,  0.29963109,  0.39976928,\n",
       "         0.49986344,  0.59976928,  0.69963109,  0.79989978,  0.90092658,\n",
       "         1.        ],\n",
       "       [ 0.        ,  0.099225  ,  0.20006305,  0.30017566,  0.39999029,\n",
       "         0.49989316,  0.59999029,  0.70017566,  0.80006305,  0.899225  ,\n",
       "         1.        ],\n",
       "       [ 0.        ,  0.10059967,  0.19986121,  0.29980783,  0.39997886,\n",
       "         0.50005937,  0.59997886,  0.69980783,  0.79986121,  0.90059967,\n",
       "         1.        ],\n",
       "       [ 0.        ,  0.09950974,  0.20013961,  0.30014009,  0.39998261,\n",
       "         0.49991639,  0.59998261,  0.70014009,  0.80013961,  0.89950974,\n",
       "         1.        ]])"
      ]
     },
     "execution_count": 11,
     "metadata": {},
     "output_type": "execute_result"
    }
   ],
   "source": [
    "u"
   ]
  },
  {
   "cell_type": "code",
   "execution_count": 57,
   "metadata": {},
   "outputs": [
    {
     "data": {
      "image/png": "[encoded data removed]",
      "text/plain": [
       "<matplotlib.figure.Figure at 0x10e4a20f0>"
      ]
     },
     "metadata": {},
     "output_type": "display_data"
    }
   ],
   "source": [
    "import matplotlib.pylab as plt\n",
    "for i in range(0,n+1):\n",
    "    plt.plot(ti, u[i,:],'b-')\n",
    "plt.show()\n"
   ]
  },
  {
   "cell_type": "code",
   "execution_count": null,
   "metadata": {
    "collapsed": true
   },
   "outputs": [],
   "source": []
  }
 ],
 "metadata": {
  "kernelspec": {
   "display_name": "Python 3",
   "language": "python",
   "name": "python3"
  },
  "language_info": {
   "codemirror_mode": {
    "name": "ipython",
    "version": 3
   },
   "file_extension": ".py",
   "mimetype": "text/x-python",
   "name": "python",
   "nbconvert_exporter": "python",
   "pygments_lexer": "ipython3",
   "version": "3.6.3"
  }
 },
 "nbformat": 4,
 "nbformat_minor": 2
}
