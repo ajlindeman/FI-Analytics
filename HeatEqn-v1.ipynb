{
 "cells": [
  {
   "cell_type": "code",
   "execution_count": 1,
   "metadata": {
    "collapsed": true
   },
   "outputs": [],
   "source": [
    "import numpy as np"
   ]
  },
  {
   "cell_type": "markdown",
   "metadata": {},
   "source": [
    "# Numerical Solution of 1D Heat Equation \n",
    "\n",
    "(This is warm-up for callable bond pricing.)\n",
    "\n",
    "We aim to solve\n",
    "$$\\begin{gather}\n",
    "u_t = a u_xx \\\\\n",
    " x\\in [0,L] \\\\\n",
    " t\\in [0,T] \\\\\n",
    " u(0,x) = f(x) \\\\\n",
    " u(t,0) = l(x) \\\\\n",
    " u(t,L) = r(x)\n",
    "\\end{gather}$$\n",
    "\n",
    "We'll do this via the Crank-Nicolson discretization scheme. \n",
    "\n",
    "## Index Notation\n",
    "\n",
    "$$\n",
    "  u_{i,j} = u(i\\Delta_t, j\\Delta_x),\\qquad i=1,\\dots,n,\\, j=1,\\dots,m.\n",
    "$$\n",
    "Since $n\\Delta_t=T$ we have $\\Delta_t=T/n$. Simlarly $\\Delta_x=L/m$.\n",
    "\n",
    "## Discretization\n",
    "1. Time derivative is centered midway between $i$ and $i+1$:\n",
    "$$\n",
    "   u_t\\bigr|_{((i+0.5)\\Delta_t, j\\Delta_x)} = \\frac{u_{i+1,j} - u_{i,j}}{\\Delta_t} + O(\\Delta_t^2)\n",
    "$$\n",
    "1. Space derivative is average of the second-order differences at $i$ and $i+1$:\n",
    "$$\n",
    "  u_{xx}\\bigr|_{((i+0.5)\\Delta_t, j\\Delta_x)} = \\frac 12\\left[ \n",
    "      \\frac {u_{i,j+1} - 2u_{i,j} + u_{i,j-1} }{\\Delta_x^2} + \\frac {u_{i+1,j+1} - 2u_{i+1,j} + u_{i+1,j-1}}{\\Delta_x^2} \n",
    "  \\right] + O(\\Delta_x^2)\n",
    "$$\n",
    "1. Dropping the error terms and putting into the PDE gives:\n",
    "$$\n",
    "   \\frac{u_{i+1,j} - u_{i,j}}{\\Delta_t} = \\frac a2\\left[ \n",
    "      \\frac {u_{i,j+1} - 2u_{i,j} + u_{i,j-1} }{\\Delta_x^2} + \\frac {u_{i+1,j+1} - 2u_{i+1,j} + u_{i+1,j-1}}{\\Delta_x^2} \n",
    "  \\right]\n",
    "$$\n",
    "1. Let $\\gamma=\\frac a2 \\frac {\\Delta_t}{\\Delta_x^2}$:\n",
    "$$\n",
    "u_{i+1,j} - u_{i,j} = \\gamma\\left[ \n",
    "      u_{i,j+1} - 2u_{i,j} + u_{i,j-1}  + u_{i+1,j+1} - 2u_{i+1,j} + u_{i+1,j-1} \n",
    "  \\right]\n",
    "$$\n",
    "1. Now collect the $i+1$ terms on the LHS:\n",
    "$$\n",
    "u_{i+1,j} -\\gamma\\left[u_{i+1,j+1} - 2u_{i+1,j} + u_{i+1,j-1}\\right]  = u_{i,j} + \\gamma\\left[ \n",
    "      u_{i,j+1} - 2u_{i,j} + u_{i,j-1}   \n",
    "  \\right]\n",
    "$$\n",
    "1. Collecting futher on the $u$ terms:\n",
    "$$\n",
    " -\\gamma u_{i+1,j+1} + (1+2\\gamma)u_{i+1,j} -\\gamma u_{i+1,j-1} = \n",
    "  \\gamma u_{i,j+1} + (1-2\\gamma)u_{i,j} + \\gamma u_{i,j-1} \n",
    "$$"
   ]
  },
  {
   "cell_type": "code",
   "execution_count": 6,
   "metadata": {},
   "outputs": [
    {
     "name": "stdout",
     "output_type": "stream",
     "text": [
      "4.999999999999999\n"
     ]
    }
   ],
   "source": [
    "a = 1\n",
    "L = 1\n",
    "T = 1\n",
    "n = 10\n",
    "m = 10\n",
    "dt = T/n\n",
    "dx = L/m\n",
    "gam = 0.5*a*dt/dx**2\n",
    "print(gam)"
   ]
  }
 ],
 "metadata": {
  "kernelspec": {
   "display_name": "Python 3",
   "language": "python",
   "name": "python3"
  },
  "language_info": {
   "codemirror_mode": {
    "name": "ipython",
    "version": 3
   },
   "file_extension": ".py",
   "mimetype": "text/x-python",
   "name": "python",
   "nbconvert_exporter": "python",
   "pygments_lexer": "ipython3",
   "version": "3.6.3"
  }
 },
 "nbformat": 4,
 "nbformat_minor": 2
}
