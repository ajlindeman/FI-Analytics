{
 "cells": [
  {
   "cell_type": "markdown",
   "metadata": {},
   "source": [
    "# Finding Discount Factors, cont'd\n",
    "\n",
    "In this note we take a different approach, one that should yield exact solutions.\n",
    "\n",
    "We are in search of a discount curve (which is infinite-dimensional) that satifies $n$ pricing relationships. Suppose we fix $n$ times and allow $n$ zero rates at those times to be free variables. We can then use an interpolation scheme to fill in the values in between those $n$ times, for all the intermediate cashflow dates.\n",
    "\n",
    "Let\n",
    "$$\n",
    "  r(t;r_1,\\dots,r_n)\n",
    "$$\n",
    "be the interpolation function that satisfies $r(t_j;r_1,\\dots,r_n)=r_j.$ We can then compute\n",
    "$$\n",
    "  z(t) = \\exp(-t r(t;r_1,\\dots,r_n))\n",
    "$$\n",
    "in order to calculate the pricing error $z - Cp$.  \n",
    "\n",
    "Note we are solving $n$ non-linear equations as a function of the parameters $r_j,\\quad j=1,\\dots n$.\n",
    "\n",
    "Since there are many interpolation methods available, this set-up offers many choices to the modeler, including direct control of the regularity of spot and forward curves.\n",
    "\n",
    "Moreover, the knot dates $t_j$ can be chosen flexibly: in some cases it makes sense to place them on central bank policy dates, i.e. dates when the central bank is likely to change the overnight rate."
   ]
  },
  {
   "cell_type": "code",
   "execution_count": 1,
   "metadata": {
    "collapsed": true
   },
   "outputs": [],
   "source": [
    "import pandas as pd\n",
    "import numpy as np\n",
    "import datetime as dt\n",
    "import quadprog as qp\n",
    "import matplotlib.pylab as plt\n",
    "import scipy.optimize as opt"
   ]
  },
  {
   "cell_type": "code",
   "execution_count": 2,
   "metadata": {},
   "outputs": [
    {
     "data": {
      "text/html": [
       "<div>\n",
       "<style>\n",
       "    .dataframe thead tr:only-child th {\n",
       "        text-align: right;\n",
       "    }\n",
       "\n",
       "    .dataframe thead th {\n",
       "        text-align: left;\n",
       "    }\n",
       "\n",
       "    .dataframe tbody tr th {\n",
       "        vertical-align: top;\n",
       "    }\n",
       "</style>\n",
       "<table border=\"1\" class=\"dataframe\">\n",
       "  <thead>\n",
       "    <tr style=\"text-align: right;\">\n",
       "      <th></th>\n",
       "      <th>coupon</th>\n",
       "      <th>dirty price</th>\n",
       "      <th>maturity</th>\n",
       "      <th>pd-1</th>\n",
       "      <th>pd-2</th>\n",
       "      <th>pd-3</th>\n",
       "      <th>pd-4</th>\n",
       "      <th>pd-5</th>\n",
       "      <th>pd-6</th>\n",
       "      <th>pd-7</th>\n",
       "      <th>pd-8</th>\n",
       "      <th>pd-9</th>\n",
       "    </tr>\n",
       "  </thead>\n",
       "  <tbody>\n",
       "    <tr>\n",
       "      <th>0</th>\n",
       "      <td>2.375</td>\n",
       "      <td>101.9825</td>\n",
       "      <td>5/15/2018</td>\n",
       "      <td>11/15/2017</td>\n",
       "      <td>NaN</td>\n",
       "      <td>NaN</td>\n",
       "      <td>NaN</td>\n",
       "      <td>NaN</td>\n",
       "      <td>NaN</td>\n",
       "      <td>NaN</td>\n",
       "      <td>NaN</td>\n",
       "      <td>NaN</td>\n",
       "    </tr>\n",
       "    <tr>\n",
       "      <th>1</th>\n",
       "      <td>3.250</td>\n",
       "      <td>105.4372</td>\n",
       "      <td>12/15/2019</td>\n",
       "      <td>6/15/2019</td>\n",
       "      <td>12/15/2018</td>\n",
       "      <td>6/15/2018</td>\n",
       "      <td>12/15/2017</td>\n",
       "      <td>NaN</td>\n",
       "      <td>NaN</td>\n",
       "      <td>NaN</td>\n",
       "      <td>NaN</td>\n",
       "      <td>NaN</td>\n",
       "    </tr>\n",
       "    <tr>\n",
       "      <th>2</th>\n",
       "      <td>1.875</td>\n",
       "      <td>101.7911</td>\n",
       "      <td>1/15/2020</td>\n",
       "      <td>7/15/2019</td>\n",
       "      <td>1/15/2019</td>\n",
       "      <td>7/15/2018</td>\n",
       "      <td>1/15/2018</td>\n",
       "      <td>NaN</td>\n",
       "      <td>NaN</td>\n",
       "      <td>NaN</td>\n",
       "      <td>NaN</td>\n",
       "      <td>NaN</td>\n",
       "    </tr>\n",
       "    <tr>\n",
       "      <th>3</th>\n",
       "      <td>1.375</td>\n",
       "      <td>98.9160</td>\n",
       "      <td>3/31/2021</td>\n",
       "      <td>9/30/2020</td>\n",
       "      <td>3/31/2020</td>\n",
       "      <td>9/30/2019</td>\n",
       "      <td>3/31/2019</td>\n",
       "      <td>9/30/2018</td>\n",
       "      <td>3/31/2018</td>\n",
       "      <td>NaN</td>\n",
       "      <td>NaN</td>\n",
       "      <td>NaN</td>\n",
       "    </tr>\n",
       "    <tr>\n",
       "      <th>4</th>\n",
       "      <td>4.125</td>\n",
       "      <td>110.0907</td>\n",
       "      <td>10/15/2022</td>\n",
       "      <td>4/15/2022</td>\n",
       "      <td>10/15/2021</td>\n",
       "      <td>4/15/2021</td>\n",
       "      <td>10/15/2020</td>\n",
       "      <td>4/15/2020</td>\n",
       "      <td>10/15/2019</td>\n",
       "      <td>4/15/2019</td>\n",
       "      <td>10/15/2018</td>\n",
       "      <td>4/15/2018</td>\n",
       "    </tr>\n",
       "  </tbody>\n",
       "</table>\n",
       "</div>"
      ],
      "text/plain": [
       "   coupon  dirty price    maturity        pd-1        pd-2       pd-3  \\\n",
       "0   2.375     101.9825   5/15/2018  11/15/2017         NaN        NaN   \n",
       "1   3.250     105.4372  12/15/2019   6/15/2019  12/15/2018  6/15/2018   \n",
       "2   1.875     101.7911   1/15/2020   7/15/2019   1/15/2019  7/15/2018   \n",
       "3   1.375      98.9160   3/31/2021   9/30/2020   3/31/2020  9/30/2019   \n",
       "4   4.125     110.0907  10/15/2022   4/15/2022  10/15/2021  4/15/2021   \n",
       "\n",
       "         pd-4       pd-5        pd-6       pd-7        pd-8       pd-9  \n",
       "0         NaN        NaN         NaN        NaN         NaN        NaN  \n",
       "1  12/15/2017        NaN         NaN        NaN         NaN        NaN  \n",
       "2   1/15/2018        NaN         NaN        NaN         NaN        NaN  \n",
       "3   3/31/2019  9/30/2018   3/31/2018        NaN         NaN        NaN  \n",
       "4  10/15/2020  4/15/2020  10/15/2019  4/15/2019  10/15/2018  4/15/2018  "
      ]
     },
     "execution_count": 2,
     "metadata": {},
     "output_type": "execute_result"
    }
   ],
   "source": [
    "bond_df = pd.read_csv('./Data/sample-bonds-1.csv')\n",
    "bond_df.head()"
   ]
  },
  {
   "cell_type": "code",
   "execution_count": 3,
   "metadata": {
    "collapsed": true
   },
   "outputs": [],
   "source": [
    "T0 = dt.datetime(2017,11,7)\n",
    "pd = [ [(dt.datetime.strptime(x,'%m/%d/%Y')-T0).days if type(x) is str else 0 for j,x in item.iteritems()] for i, item in bond_df.iloc[:,2:].iterrows()]"
   ]
  },
  {
   "cell_type": "code",
   "execution_count": 4,
   "metadata": {},
   "outputs": [
    {
     "name": "stdout",
     "output_type": "stream",
     "text": [
      "5 bonds and 29 cashflow dates\n"
     ]
    }
   ],
   "source": [
    "u_pd = np.unique(np.ravel(pd))\n",
    "u_pd = u_pd[np.where(u_pd>0)]\n",
    "n = len(bond_df)\n",
    "m = len(u_pd)\n",
    "print('%d bonds and %d cashflow dates' % (n,m) )"
   ]
  },
  {
   "cell_type": "code",
   "execution_count": 5,
   "metadata": {
    "collapsed": true
   },
   "outputs": [],
   "source": [
    "p = np.array(bond_df['dirty price'])\n",
    "C = np.zeros( (n,m) )\n",
    "for i in range(n):\n",
    "    c = 0.5*bond_df.iloc[i,0]\n",
    "    for k,x in enumerate(pd[i]):\n",
    "        if x>0:\n",
    "            j = np.where(u_pd==x)[0][0]\n",
    "            C[i,j] = c if k > 0 else 100+c"
   ]
  },
  {
   "cell_type": "code",
   "execution_count": 6,
   "metadata": {
    "collapsed": true
   },
   "outputs": [],
   "source": [
    "class TensionSpline(object):\n",
    "    def __init__(self, ti, yi, tension):\n",
    "        self.ti = ti\n",
    "        self.yi = yi\n",
    "        ni = len(yi)\n",
    "        self.dt = np.diff(ti)\n",
    "        assert(np.min(self.dt) > 0)\n",
    "        self.sigma = tension / np.max(self.dt)\n",
    "        dydt = np.diff(yi)/self.dt\n",
    "        self.tau = self.sigma * self.dt\n",
    "        s1 = 1.0 / (self.dt * self.sigma**2)\n",
    "        s2 = -2*self.dt*np.exp(-self.tau)/(self.tau*np.expm1(-2*self.tau))\n",
    "\n",
    "        n = ni - 2\n",
    "        w = self.dt / (self.tau*np.tanh(self.tau)) - s1\n",
    "        sdiag = s1[1:n] - s2[1:n]\n",
    "        diag = w[:n] + w[1:] \n",
    "        b = np.diff(dydt)\n",
    "        T = np.diag(sdiag,-1) + np.diag(sdiag,1) + np.diag(diag)\n",
    "        self.ypps = np.zeros(ni)\n",
    "        self.ypps[1:1+n] = np.linalg.solve(T,b)\n",
    "        \n",
    "    # interpolation function uses ti, yi, dt, tau, sigma, ypps    \n",
    "    def __call__(self, t_):\n",
    "        t = t_*np.ones(1) if np.isscalar(t_) else t_\n",
    "        res = np.zeros(np.shape(t))\n",
    "        res[np.where(t<=self.ti[0])] = self.yi[0]\n",
    "        res[np.where(t>=self.ti[-1])] = self.yi[-1]\n",
    "        gi = np.where( (self.ti[0] < t) & (t < self.ti[-1]) )\n",
    "        tg = t[gi]\n",
    "        ii = np.array([np.argmin(self.ti<tx) for _, tx in enumerate(tg)])\n",
    "        u = (self.ti[ii] - tg) / self.dt[ii-1]\n",
    "        v = 1-u\n",
    "        den = -np.expm1(-2*self.tau[ii-1])\n",
    "        eum = np.exp( (u-1)*self.tau[ii-1] )\n",
    "        eup = np.exp(-(u+1)*self.tau[ii-1] )\n",
    "        evm = np.exp( (v-1)*self.tau[ii-1] )\n",
    "        evp = np.exp(-(v+1)*self.tau[ii-1] )\n",
    "    \n",
    "        sig2 = self.sigma**2\n",
    "        p = ( ((eum - eup) / den) - u ) / sig2\n",
    "        q = ( ((evm - evp) / den) - v ) / sig2\n",
    "        g = self.ypps[ii-1]*p + self.ypps[ii]*q\n",
    "        res[gi] = u*self.yi[ii-1] + v*self.yi[ii] + g\n",
    "    \n",
    "        return res[0] if np .isscalar(t_) else res"
   ]
  },
  {
   "cell_type": "code",
   "execution_count": 7,
   "metadata": {
    "collapsed": true
   },
   "outputs": [],
   "source": [
    "class CurveObjective:\n",
    "    def __init__(self, C, p, u_pd, tension):\n",
    "        self.C = C\n",
    "        self.p = p\n",
    "        self.t = u_pd / 365.0\n",
    "        self.tension = tension\n",
    "        self.knots = np.array(\n",
    "            [self.t[::-1][np.min(np.where(0<C[j,::-1]))] for j in range(n)])\n",
    "        \n",
    "    def __call__(self, rk):        \n",
    "        r = TensionSpline(self.knots, rk, self.tension)\n",
    "        z = np.exp(-self.t*r(self.t))\n",
    "        return p - C.dot(z)\n",
    "    \n",
    "crv_obj = CurveObjective(C, p, u_pd, 3)    "
   ]
  },
  {
   "cell_type": "code",
   "execution_count": 8,
   "metadata": {},
   "outputs": [
    {
     "data": {
      "image/png": "[encoded data removed]",
      "text/plain": [
       "<matplotlib.figure.Figure at 0x150ad0f9b0>"
      ]
     },
     "metadata": {},
     "output_type": "display_data"
    }
   ],
   "source": [
    "r_sol = opt.broyden1(crv_obj, 0.02*np.ones(n))\n",
    "\n",
    "r = TensionSpline(crv_obj.knots, r_sol, crv_obj.tension)\n",
    "plt.plot(crv_obj.t, r(crv_obj.t))\n",
    "plt.grid(True)\n",
    "plt.show();"
   ]
  },
  {
   "cell_type": "code",
   "execution_count": 9,
   "metadata": {},
   "outputs": [
    {
     "data": {
      "image/png": "[encoded data removed]",
      "text/plain": [
       "<matplotlib.figure.Figure at 0x150ad4a9e8>"
      ]
     },
     "metadata": {},
     "output_type": "display_data"
    }
   ],
   "source": [
    "td = np.arange(0,5,1/365)\n",
    "zd = np.exp(-td*r(td))\n",
    "fd = -365.0*np.log(zd[1:-1]/zd[0:-2])\n",
    "plt.plot(td[0:-2],fd)\n",
    "plt.grid(True)\n",
    "plt.title('Daily Forward Rates')\n",
    "plt.show()"
   ]
  }
 ],
 "metadata": {
  "kernelspec": {
   "display_name": "Python 3",
   "language": "python",
   "name": "python3"
  },
  "language_info": {
   "codemirror_mode": {
    "name": "ipython",
    "version": 3
   },
   "file_extension": ".py",
   "mimetype": "text/x-python",
   "name": "python",
   "nbconvert_exporter": "python",
   "pygments_lexer": "ipython3",
   "version": "3.6.3"
  }
 },
 "nbformat": 4,
 "nbformat_minor": 2
}
