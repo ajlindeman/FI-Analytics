{
 "cells": [
  {
   "cell_type": "code",
   "execution_count": 2,
   "metadata": {
    "collapsed": true
   },
   "outputs": [],
   "source": [
    "import numpy as np"
   ]
  },
  {
   "cell_type": "markdown",
   "metadata": {},
   "source": [
    "# Simple Black Scholes \n",
    "\n",
    "Through a change of variables, the Black Scholes PDE can be solved via a constant coefficient heat equation.\n",
    "\n",
    "Recall the solution for a European call price satisfies\n",
    "$$\\begin{gather}\n",
    "    v_t + \\frac 12 \\sigma^2 x^2 v_{xx} + rxv_x  = rv \\\\\n",
    "      v(T,x) = \\max(x-K,0) \\\\\n",
    "      0 \\leq t \\leq T \\\\\n",
    "         0 \\leq x.\n",
    "\\end{gather}$$\n",
    "If we take\n",
    "$$\n",
    "  u(\\tau,z) = e^{r\\tau}v(\\tau=T-t, z = \\log\\left(\\tfrac xK\\right) + (r-\\tfrac 12\\sigma^2)\\tau)\n",
    "$$\n",
    "then $u$ satisfies\n",
    "$$\\begin{gather}\n",
    "  u_\\tau = \\frac {\\sigma^2}2 u_{zz} \\\\\n",
    "  u(0,z) = K(e^z-1){\\bf 1}_{(z>0)} \\\\\n",
    "  0\\leq\\tau\\leq T \\\\\n",
    "  -\\infty < z < \\infty  \n",
    "\\end{gather}$$"
   ]
  },
  {
   "cell_type": "code",
   "execution_count": 86,
   "metadata": {},
   "outputs": [
    {
     "name": "stdout",
     "output_type": "stream",
     "text": [
      "4.999999999999999\n"
     ]
    }
   ],
   "source": [
    "r = 0.015\n",
    "sig = 0.1\n",
    "T = 1\n",
    "S = 50\n",
    "K = 50\n",
    "\n",
    "n = 10 # time steps\n",
    "m = 10 # space steps\n",
    "\n",
    "a = 0.5*sig**2\n",
    "L = S + 4*sig*T\n",
    "dt = T/n\n",
    "dx = L/m\n",
    "gam = 0.5*a*dt/dx**2\n",
    "\n",
    "def f(x):\n",
    "    return K*(np.exp(np.fmax(0,x))-1)\n",
    "\n",
    "def l(t):\n",
    "    return 0*np.ones(len(t))\n",
    "\n",
    "def r(t):\n",
    "    return (L-K)*np.ones(len(t))"
   ]
  },
  {
   "cell_type": "code",
   "execution_count": 5,
   "metadata": {},
   "outputs": [
    {
     "data": {
      "text/plain": [
       "array([  2.,   2.,   2.,   3.,   4.,   5.,   6.,   7.,   8.,   9.,  10.])"
      ]
     },
     "execution_count": 5,
     "metadata": {},
     "output_type": "execute_result"
    }
   ],
   "source": [
    "w=np.linspace(0,10,11)\n",
    "np.fmax(2,w)"
   ]
  },
  {
   "cell_type": "code",
   "execution_count": 87,
   "metadata": {
    "collapsed": true
   },
   "outputs": [],
   "source": [
    "# u(t,x)\n",
    "xi = np.linspace(0,L,m+1)\n",
    "ti = np.linspace(0,T,n+1)\n",
    "u = np.zeros( (n+1, m+1) )\n",
    "\n",
    "# Boundary conditions\n",
    "u[0,:] = f(xi)\n",
    "u[:,0] = l(ti)\n",
    "u[:,-1] = r(ti)\n",
    "\n",
    "# Pre-compute A and B, initialize c\n",
    "A = np.diag(1+2*gam*np.ones(m-1)) + np.diag(-gam*np.ones(m-2) ,-1) + np.diag(-gam*np.ones(m-2), 1)\n",
    "B = np.diag(1-2*gam*np.ones(m-1)) + np.diag(gam*np.ones(m-2) ,-1) + np.diag(gam*np.ones(m-2), 1)\n",
    "c = np.zeros(m-1)"
   ]
  },
  {
   "cell_type": "code",
   "execution_count": 88,
   "metadata": {
    "collapsed": true
   },
   "outputs": [],
   "source": [
    "# Iteratively solve\n",
    "for i in range(1,n+1):\n",
    "    #print('i=%d'%i)\n",
    "    c[0] = gam*(u[i-1,0] + u[i,0])\n",
    "    c[-1] = gam*(u[i-1,-1] + u[i,-1])    \n",
    "    u[i,1:-1] = np.linalg.solve(A,B.dot(u[i-1,1:-1])+c)"
   ]
  },
  {
   "cell_type": "code",
   "execution_count": 89,
   "metadata": {},
   "outputs": [
    {
     "data": {
      "text/plain": [
       "array([[ 0.        ,  0.01      ,  0.04      ,  0.09      ,  0.16      ,\n",
       "         0.25      ,  0.36      ,  0.49      ,  0.64      ,  0.81      ,\n",
       "         1.        ],\n",
       "       [ 0.        ,  0.07950535,  0.15291178,  0.22890055,  0.31266944,\n",
       "         0.40697222,  0.51266944,  0.62890055,  0.75291178,  0.87950535,\n",
       "         1.        ],\n",
       "       [ 0.        ,  0.08598624,  0.1793676 ,  0.27545776,  0.37307925,\n",
       "         0.47224881,  0.57307925,  0.67545776,  0.7793676 ,  0.88598624,\n",
       "         1.        ],\n",
       "       [ 0.        ,  0.10002118,  0.19545424,  0.29139582,  0.38899369,\n",
       "         0.48822637,  0.58899369,  0.69139582,  0.79545424,  0.90002118,\n",
       "         1.        ],\n",
       "       [ 0.        ,  0.0965927 ,  0.19708782,  0.29740114,  0.39725924,\n",
       "         0.49713563,  0.59725924,  0.69740114,  0.79708782,  0.8965927 ,\n",
       "         1.        ],\n",
       "       [ 0.        ,  0.10131053,  0.1996622 ,  0.29871056,  0.39847601,\n",
       "         0.49846653,  0.59847601,  0.69871056,  0.7996622 ,  0.90131053,\n",
       "         1.        ],\n",
       "       [ 0.        ,  0.09860486,  0.19962743,  0.29994638,  0.39979538,\n",
       "         0.4996832 ,  0.59979538,  0.69994638,  0.79962743,  0.89860486,\n",
       "         1.        ],\n",
       "       [ 0.        ,  0.10092658,  0.19989978,  0.29963109,  0.39976928,\n",
       "         0.49986344,  0.59976928,  0.69963109,  0.79989978,  0.90092658,\n",
       "         1.        ],\n",
       "       [ 0.        ,  0.099225  ,  0.20006305,  0.30017566,  0.39999029,\n",
       "         0.49989316,  0.59999029,  0.70017566,  0.80006305,  0.899225  ,\n",
       "         1.        ],\n",
       "       [ 0.        ,  0.10059967,  0.19986121,  0.29980783,  0.39997886,\n",
       "         0.50005937,  0.59997886,  0.69980783,  0.79986121,  0.90059967,\n",
       "         1.        ],\n",
       "       [ 0.        ,  0.09950974,  0.20013961,  0.30014009,  0.39998261,\n",
       "         0.49991639,  0.59998261,  0.70014009,  0.80013961,  0.89950974,\n",
       "         1.        ]])"
      ]
     },
     "execution_count": 89,
     "metadata": {},
     "output_type": "execute_result"
    }
   ],
   "source": [
    "u"
   ]
  },
  {
   "cell_type": "code",
   "execution_count": null,
   "metadata": {
    "collapsed": true
   },
   "outputs": [],
   "source": []
  },
  {
   "cell_type": "code",
   "execution_count": null,
   "metadata": {
    "collapsed": true
   },
   "outputs": [],
   "source": []
  }
 ],
 "metadata": {
  "kernelspec": {
   "display_name": "Python 3",
   "language": "python",
   "name": "python3"
  },
  "language_info": {
   "codemirror_mode": {
    "name": "ipython",
    "version": 3
   },
   "file_extension": ".py",
   "mimetype": "text/x-python",
   "name": "python",
   "nbconvert_exporter": "python",
   "pygments_lexer": "ipython3",
   "version": "3.6.3"
  }
 },
 "nbformat": 4,
 "nbformat_minor": 2
}
