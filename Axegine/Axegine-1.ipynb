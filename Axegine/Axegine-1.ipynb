{
 "cells": [
  {
   "cell_type": "markdown",
   "metadata": {},
   "source": [
    "# Axegine Optimal B/A Pricing Model\n",
    "\n",
    "AJ Lindeman\n",
    "\n",
    "June 2018"
   ]
  },
  {
   "cell_type": "markdown",
   "metadata": {},
   "source": [
    "## Problem (re) statement and analysis\n",
    "\n",
    "We are making markets in a single risky asset having a lognormal price process\n",
    "$$\n",
    "dP_t = P_t\\left( \\mu\\,dt + \\sigma\\,dW_t\\right).\n",
    "$$\n",
    "\n",
    "Buy and sell orders are modeled as a Poisson counting process with densities $\\lambda_0^b$ and $\\lambda_0^s$. Our quotes take the form\n",
    "$$\n",
    "P_te^s_t\n",
    "$$\n",
    "and the probability the quote is accepted is modeled as\n",
    "$$\n",
    "\\lambda_1^\\cdot(s_t) = e^{-\\beta s^\\cdot_t}.\n",
    "$$\n",
    "Note $\\beta$ is a parameter reflecting the fact that we cannot guarantee winning the trade by setting the spread to zero:\n",
    "$$\n",
    "P(\\text{agent}\\,\\text{buys}\\,\\vert\\, s\\in[0,\\delta)) = \\int_0^\\delta e^{-\\beta s}\\,ds=1-\\frac 1\\beta e^{-\\beta\\delta} \\approx 1 - \\frac 1\\beta +\\delta.\n",
    "$$\n",
    "Obviously we must have $\\beta\\geq 1$, and really only $\\beta > 1$ is realistic, as other dealers may be better buyers and sellers (perhaps using a different utility function than us).\n",
    "\n",
    "_**Claim**: Accepted trades arrive at rate $\\lambda^\\cdot = \\lambda_0^\\cdot \\times \\lambda_1^\\cdot.$_ (TODO)\n",
    "\n",
    "Trade quantities are denoted by $Q$. In this setup the change in inventory is goverened by\n",
    "$$\n",
    "dI_t = \\left(Q^s\\lambda^s - Q^b\\lambda^b\\right)\\,dt\n",
    "$$\n",
    "In words, the difference between expected agent sells (our buys) and expected agent buys (our sells) over a small time period.\n",
    "\n",
    "The change in our cash account is similar, except that we have to reflect the transaction prices:\n",
    "$$\n",
    "dC_t = P_t\\left(Q^b\\lambda^b e^{s^A} - Q^s\\lambda^s e^{-s^B} \\right)\\,dt\n",
    "$$\n",
    "As a mental check, if we take $Q=1$ and $s=s^A=s^B$ and $\\lambda = \\lambda^b = \\lambda^a$ we have\n",
    "$$\n",
    "dC_t = Q\\lambda P_t\\left(e^s - e^{-s}\\right)\\,dt\\approx 2 Q\\lambda P_t s\\,dt\n",
    "$$\n",
    "which is twice the (\"proportional\") spread times the expected quantity traded. (I.e. the spread convention here is a percentage of value, not the more usual absolute amount.)\n",
    "\n",
    "Our wealth process is simply the sum of the cash account and value of our position (taken at mid):\n",
    "$$\n",
    "\\Pi_t = C_t + I_t P_t,\n",
    "$$\n",
    "and we are asked to choose a policy $\\left\\{s^A_t, s^B_t\\right\\}$ that maximizes exponential utility at some terminal time $T$:\n",
    "$$\n",
    "   \\max {\\bf E}\\left[-e^{-\\Pi(T)}\\right]\n",
    "$$\n",
    "\n",
    "### Observations\n",
    "\n",
    "* No time value of money (risk-free rate is zero).\n",
    "* Can borrow indefinitely, implying no upper limit on long position\n",
    "* Can short indefinitely\n",
    "* No penalty for holding inventory; no link between spreads and inventory\n",
    "* No explicity hedging of position, although $P_t$ could reprsent the price dynamics of a hedged portfolio\n",
    "* Might re-parameterize to the arrival rate of unit orders - i.e. collapse $Q$ and $\\lambda$.\n",
    "\n",
    "### Overall solution strategy\n",
    "\n",
    "* Simulate to check understanding and validate expected sensitivites, such as \n",
    "  * Don't really see any time-dependence here\n",
    "  * Similarly the policy won't depend on position, \n",
    "  * So perhaps it doesn't depend on wealth, and it's a constant \n",
    "  * Bid and ask spreads won't be symmetric - the asymmetry should be controlled by $\\mu$ and the relative arrival rates of buy and sell orders (and relative buy and sell sizes).\n",
    "  * Bid and ask spreads increase with $\\sigma$\n",
    "* Write down the SDE for the wealth process\n",
    "* Find the infinitessimal generator and pose the optimization as an HJB equation\n",
    "* Assume a classical solution and \"differentiate\" to find the optimal policy\n",
    "* Analyze the PDE more to see what we can say about expected terinal wealth"
   ]
  },
  {
   "cell_type": "markdown",
   "metadata": {},
   "source": [
    "## Simulation"
   ]
  },
  {
   "cell_type": "code",
   "execution_count": 1,
   "metadata": {
    "collapsed": true
   },
   "outputs": [],
   "source": [
    "import numpy as np\n",
    "import matplotlib.pylab as plt"
   ]
  },
  {
   "cell_type": "code",
   "execution_count": 315,
   "metadata": {},
   "outputs": [],
   "source": [
    "T = 2 # days\n",
    "dt = 0.125 # 8 trading hours per day\n",
    "Qs = 1.0 # unit customer sell size\n",
    "Qb = 1.0 # unit customer buy size\n",
    "mu = 0.02/250.0  # 2% per annum\n",
    "sig = 0.01/np.sqrt(T) # 1% asset vol (eg high-quality bond)\n",
    "lam0s = 0.6033*8.0 # 33% chance per dt via P(N(1/8)=1) = lam/8 exp(-lam/8) = 0.33\n",
    "lam0b = lam0s # let's make buys and sells symmetric\n",
    "beta = 4.0 # so we are only X% likely to win a trade with a zero spread\n",
    "gam = 0.1"
   ]
  },
  {
   "cell_type": "code",
   "execution_count": 316,
   "metadata": {},
   "outputs": [],
   "source": [
    "def run_sim(sA, sB):\n",
    "    ns = 1000\n",
    "    P0 = 100.0\n",
    "    Pt = np.zeros((T+1, ns))\n",
    "    Ct = np.zeros((T+1, ns))\n",
    "    It = np.zeros((T+1, ns))\n",
    "    Vt = np.zeros((T+1, ns))\n",
    "    Pt[0,:] = P0\n",
    "    for t in range(T):\n",
    "        # price process\n",
    "        Wt = np.random.normal(scale=np.sqrt(dt), size=ns)\n",
    "        Pt[t+1,:] = Pt[t,:] * np.exp((mu-0.5*sig**2)*dt) * np.exp(sig*Wt)\n",
    "        # order arrivals\n",
    "        b_t = Qb*np.random.poisson(lam0b/12, ns) # something is not right with lam0s...\n",
    "        s_t = Qs*np.random.poisson(lam0s/12, ns)\n",
    "        # trades need to be won - both on the beta condition and spread\n",
    "        # we \"implement the loss\" either B1 ~ Bern(1-1/beta) is zero or B2 ~ Bern(exp(-s)) is zero\n",
    "        # if beta = 1, then the first condition is Unif(0,1) < 0 which is false -> second condition gets a chance\n",
    "        # if sA = 0, then the second condition is Unif(0,1) < 0 which is also false -> so we always win\n",
    "        b_t[ (np.random.uniform(size=ns) < 1.0-1.0/beta) \n",
    "            |(np.random.uniform(size=ns) < 1.0 - np.exp(-sA))] = 0.0 # implemented as lost\n",
    "        s_t[ (np.random.uniform(size=ns) < 1.0-1.0/beta)\n",
    "            |(np.random.uniform(size=ns) < 1.0 - np.exp(-sB))] = 0.0\n",
    "        print ('**', np.sum(b_t)/ns, np.sum(s_t)/ns)\n",
    "        #print(b_t)\n",
    "        It[t+1,:] = It[t,:] + (s_t - b_t) # customer sells - customer buys\n",
    "        Ct[t+1,:] = Ct[t,:] + Pt[t,:]*(b_t*np.exp(sA) - s_t*np.exp(-sB)) # cust buys at P*e^sA...\n",
    "        Vt[t+1,:] = Ct[t+1,:] + It[t+1,:]*Pt[t+1,:] # note we quoted at P(t), marked at P(t+1)\n",
    "    return Vt, Ct, It"
   ]
  },
  {
   "cell_type": "code",
   "execution_count": 319,
   "metadata": {},
   "outputs": [
    {
     "name": "stdout",
     "output_type": "stream",
     "text": [
      "** 0.09 0.096\n",
      "** 0.089 0.089\n",
      "0.183619435616 0.526326123511 -0.966470155172\n"
     ]
    },
    {
     "data": {
      "image/png": "[encoded data removed]",
      "text/plain": [
       "<matplotlib.figure.Figure at 0x1145e1588>"
      ]
     },
     "metadata": {},
     "output_type": "display_data"
    }
   ],
   "source": [
    "np.random.seed(123)\n",
    "sA = 0.01\n",
    "sB = 0.01\n",
    "Vt, Ct, It = run_sim(sA, sB)\n",
    "UT = -np.exp(-gam*Vt[T,])\n",
    "print(np.mean(Vt), np.std(Vt), np.mean(UT))\n",
    "plt.hist(Vt[T,])\n",
    "plt.show()"
   ]
  },
  {
   "cell_type": "code",
   "execution_count": 175,
   "metadata": {},
   "outputs": [
    {
     "data": {
      "image/png": "[encoded data removed]",
      "text/plain": [
       "<matplotlib.figure.Figure at 0x1146be400>"
      ]
     },
     "metadata": {},
     "output_type": "display_data"
    }
   ],
   "source": []
  },
  {
   "cell_type": "code",
   "execution_count": 137,
   "metadata": {},
   "outputs": [
    {
     "data": {
      "text/plain": [
       "array([  3,   5,   7,  11,  12,  15,  27,  28,  32,  33,  35,  37,  40,\n",
       "        41,  44,  45,  50,  52,  57,  58,  64,  66,  76,  78,  82,  85,\n",
       "        88,  90,  98, 101, 104, 106, 108, 110, 113, 114, 118, 129, 137,\n",
       "       138, 143, 149, 151, 153, 155, 157, 169, 178, 179, 181, 184, 188,\n",
       "       192, 193, 194, 198, 206, 207, 215, 217, 218, 221, 227, 229, 230,\n",
       "       235, 237, 242, 245, 246, 249, 252, 253, 257, 263, 266, 270, 277,\n",
       "       279, 281, 284, 287, 294, 305, 313, 317, 322, 333, 336, 339, 350,\n",
       "       354, 355, 358, 359, 360, 367, 370, 379, 380, 389, 391, 392, 404,\n",
       "       405, 407, 413, 422, 424, 426, 429, 430, 434, 435, 437, 440, 444,\n",
       "       446, 450, 453, 456, 458, 463, 465, 467, 469, 470, 472, 473, 475,\n",
       "       476, 477, 479, 483, 486, 490, 492, 496, 504, 505, 512, 513, 515,\n",
       "       518, 519, 520, 523, 526, 529, 531, 534, 535, 536, 538, 539, 542,\n",
       "       555, 562, 563, 571, 575, 577, 583, 585, 599, 601, 604, 605, 606,\n",
       "       607, 608, 609, 611, 613, 614, 620, 621, 634, 644, 650, 653, 656,\n",
       "       660, 662, 665, 667, 668, 678, 679, 682, 686, 688, 695, 700, 710,\n",
       "       713, 721, 725, 727, 729, 732, 734, 735, 738, 742, 747, 756, 757,\n",
       "       765, 766, 769, 770, 771, 776, 778, 780, 782, 785, 786, 791, 794,\n",
       "       799, 806, 808, 810, 811, 821, 823, 827, 828, 834, 836, 842, 843,\n",
       "       845, 846, 847, 848, 850, 851, 853, 854, 857, 858, 861, 863, 865,\n",
       "       868, 869, 872, 875, 877, 878, 879, 881, 882, 884, 890, 897, 898,\n",
       "       902, 908, 913, 917, 922, 924, 929, 930, 936, 938, 940, 941, 942,\n",
       "       945, 946, 950, 952, 956, 957, 958, 962, 964, 977, 979, 988, 992, 999])"
      ]
     },
     "execution_count": 137,
     "metadata": {},
     "output_type": "execute_result"
    }
   ],
   "source": [
    "np.array(range(ns))[np.sum(Ct,axis=0)<0]"
   ]
  },
  {
   "cell_type": "code",
   "execution_count": 147,
   "metadata": {},
   "outputs": [
    {
     "data": {
      "text/plain": [
       "array([ 100.        ,  100.04138878,  100.03857662,  100.05303964])"
      ]
     },
     "execution_count": 147,
     "metadata": {},
     "output_type": "execute_result"
    }
   ],
   "source": [
    "Pt[:,137]"
   ]
  },
  {
   "cell_type": "code",
   "execution_count": 142,
   "metadata": {},
   "outputs": [
    {
     "data": {
      "text/plain": [
       "array([ 0.,  0.,  1.,  2.])"
      ]
     },
     "execution_count": 142,
     "metadata": {},
     "output_type": "execute_result"
    }
   ],
   "source": [
    "It[:,137]"
   ]
  },
  {
   "cell_type": "code",
   "execution_count": 143,
   "metadata": {},
   "outputs": [
    {
     "data": {
      "text/plain": [
       "array([   0.        ,    0.        ,  -99.9413974 , -199.87998544])"
      ]
     },
     "execution_count": 143,
     "metadata": {},
     "output_type": "execute_result"
    }
   ],
   "source": [
    "Ct[:,137]"
   ]
  },
  {
   "cell_type": "code",
   "execution_count": 144,
   "metadata": {},
   "outputs": [
    {
     "data": {
      "text/plain": [
       "array([ 0.        ,  0.        ,  0.09717922,  0.22609385])"
      ]
     },
     "execution_count": 144,
     "metadata": {},
     "output_type": "execute_result"
    }
   ],
   "source": [
    "Vt[:,137]"
   ]
  },
  {
   "cell_type": "code",
   "execution_count": 145,
   "metadata": {},
   "outputs": [
    {
     "data": {
      "text/plain": [
       "-0.97764429187794621"
      ]
     },
     "execution_count": 145,
     "metadata": {},
     "output_type": "execute_result"
    }
   ],
   "source": [
    "UT[137]"
   ]
  },
  {
   "cell_type": "code",
   "execution_count": null,
   "metadata": {
    "collapsed": true
   },
   "outputs": [],
   "source": []
  }
 ],
 "metadata": {
  "kernelspec": {
   "display_name": "Python 3",
   "language": "python",
   "name": "python3"
  },
  "language_info": {
   "codemirror_mode": {
    "name": "ipython",
    "version": 3
   },
   "file_extension": ".py",
   "mimetype": "text/x-python",
   "name": "python",
   "nbconvert_exporter": "python",
   "pygments_lexer": "ipython3",
   "version": "3.6.3"
  }
 },
 "nbformat": 4,
 "nbformat_minor": 2
}
