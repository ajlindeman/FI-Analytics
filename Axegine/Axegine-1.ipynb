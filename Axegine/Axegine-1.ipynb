{
 "cells": [
  {
   "cell_type": "markdown",
   "metadata": {},
   "source": [
    "# Axegine Optimal B/A Pricing Model\n",
    "\n",
    "AJ Lindeman\n",
    "\n",
    "June 2018"
   ]
  },
  {
   "cell_type": "markdown",
   "metadata": {},
   "source": [
    "## Problem (re) statement and analysis\n",
    "\n",
    "We are making markets in a single risky asset having a lognormal price process\n",
    "$$\n",
    "dP_t = P_t\\left( \\mu\\,dt + \\sigma\\,dW_t\\right).\n",
    "$$\n",
    "\n",
    "Buy and sell orders are modeled as a Poisson counting process with densities $\\lambda_0^b$ and $\\lambda_0^s$. Our quotes take the form\n",
    "$$\n",
    "P_te^s_t\n",
    "$$\n",
    "and the probability the quote is accepted is modeled as\n",
    "$$\n",
    "\\lambda_1^\\cdot(s_t) = e^{-\\beta s^\\cdot_t}.\n",
    "$$\n",
    "Note $\\beta$ is a parameter reflecting the fact that we cannot guarantee winning the trade by setting the spread to zero:\n",
    "$$\n",
    "P(\\text{agent}\\,\\text{buys}\\,\\vert\\, s\\in[0,\\delta)) = \\int_0^\\delta e^{-\\beta s}\\,ds=1-\\frac 1\\beta e^{-\\beta\\delta} \\approx 1 - \\frac 1\\beta -\\delta.\n",
    "$$\n",
    "Obviously we must have $\\beta\\geq 1$, and really only $\\beta > 1$ is realistic, as other dealers may be better buyers and sellers (perhaps using a different utility function than us).\n",
    "\n",
    "_**Claim**: Accepted trades arrive at rate $\\lambda^\\cdot = \\lambda_0^\\cdot \\times \\lambda_1^\\cdot.$_ (TODO)\n",
    "\n",
    "Trade quantities are denoted by $Q$. In this setup the change in inventory is goverened by\n",
    "$$\n",
    "dI_t = \\left(Q^s\\lambda^s - Q^b\\lambda^b\\right)\\,dt\n",
    "$$\n",
    "In words, the difference between expected agent sells (our buys) and expected agent buys (our sells) over a small time period.\n",
    "\n",
    "The change in our cash account is similar, except that we have to reflect the transaction prices:\n",
    "$$\n",
    "dC_t = P_t\\left(Q^b\\lambda^b e^{s^A} - Q^s\\lambda^s e^{-s^B} \\right)\\,dt\n",
    "$$\n",
    "As a mental check, if we take $Q=1$ and $s=s^A=s^B$ and $\\lambda = \\lambda^b = \\lambda^a$ we have\n",
    "$$\n",
    "dC_t = Q\\lambda P_t\\left(e^s - e^{-s}\\right)\\,dt\\approx 2 Q\\lambda P_t s\\,dt\n",
    "$$\n",
    "which is twice the (\"proportional\") spread times the expected quantity traded. (I.e. the spread convention here is a percentage of value, not the more usual absolute amount.)\n",
    "\n",
    "Our wealth process is simply the sum of the cash account and value of our position (taken at mid):\n",
    "$$\n",
    "\\Pi_t = C_t + I_t P_t,\n",
    "$$\n",
    "and we are asked to choose a policy $\\left\\{s^A_t, s^B_t\\right\\}$ that maximizes exponential utility at some terminal time $T$:\n",
    "$$\n",
    "   \\max {\\bf E}\\left[-e^{-\\Pi(T)}\\right]\n",
    "$$\n",
    "\n",
    "### Observations\n",
    "\n",
    "* No time value of money (risk-free rate is zero).\n",
    "* Can borrow indefinitely, implying no upper limit on long position\n",
    "* Can short indefinitely\n",
    "* No penalty for holding inventory; no link between spreads and inventory\n",
    "* No explicity hedging of position, although $P_t$ could reprsent the price dynamics of a hedged portfolio\n",
    "* Might re-parameterize to the arrival rate of unit orders - i.e. collapse $Q$ and $\\lambda$.\n",
    "\n",
    "### Overall solution strategy\n",
    "\n",
    "* Simulate to check understanding and validate expected sensitivites, such as \n",
    "  * Don't really see any time-dependence here\n",
    "  * Similarly the policy won't depend on position, \n",
    "  * So perhaps it doesn't depend on wealth, and it's a constant \n",
    "  * Bid and ask spreads won't be symmetric - the asymmetry should be controlled by $\\mu$ and the relative arrival rates of buy and sell orders (and relative buy and sell sizes).\n",
    "  * Bid and ask spreads increase with $\\sigma$\n",
    "* Write down the SDE for the wealth process\n",
    "* Find the infinitessimal generator and pose the optimization as an HJB equation\n",
    "* Assume a classical solution and \"differentiate\" to find the optimal policy\n",
    "* Analyze the PDE more to see what we can say about expected terinal wealth"
   ]
  },
  {
   "cell_type": "markdown",
   "metadata": {},
   "source": [
    "## Simulation"
   ]
  },
  {
   "cell_type": "code",
   "execution_count": 1,
   "metadata": {
    "collapsed": true
   },
   "outputs": [],
   "source": [
    "import numpy as np\n",
    "import matplotlib.pylab as plt"
   ]
  },
  {
   "cell_type": "code",
   "execution_count": 2,
   "metadata": {},
   "outputs": [],
   "source": [
    "T = 250 # days\n",
    "dt = 0.125 # 8 trading hours per day\n",
    "Qs = 1.0 # unit customer sell size\n",
    "Qb = 1.0 # unit customer buy size\n",
    "mu = 0.02/250.0  # 2% per annum\n",
    "sig = 0.01/np.sqrt(T) # 1% asset vol (eg high-quality bond)\n",
    "lam0s = 0.6033*8.0/T # 33% chance per dt via P(N(1/8)=1) = lam/8 exp(-lam/8) = 0.33\n",
    "lam0b = lam0s # let's make buys and sells symmetric\n",
    "beta = 2.0 # so we are only 50% likely to win a trade with a zero spread"
   ]
  },
  {
   "cell_type": "code",
   "execution_count": 3,
   "metadata": {},
   "outputs": [
    {
     "name": "stdout",
     "output_type": "stream",
     "text": [
      "16.8932734493 785.322886866\n"
     ]
    }
   ],
   "source": [
    "ns = 20000\n",
    "P0 = 100.0\n",
    "Pt = np.zeros((T+1, ns))\n",
    "Ct = np.zeros((T+1, ns))\n",
    "It = np.zeros((T+1, ns))\n",
    "Vt = np.zeros((T+1, ns))\n",
    "Pt[0,:] = P0\n",
    "sA = 0.02\n",
    "sB = 0.005\n",
    "for t in range(T):\n",
    "    # price process\n",
    "    Pt[t+1,:] = Pt[t,:] * np.exp((mu-sig**2)*dt) * np.exp(sig*np.random.normal(scale=np.sqrt(dt), size=ns))\n",
    "    # order arrivals\n",
    "    b_t = Qb*np.random.poisson(16*lam0b, ns) # something is not right with lam0s...\n",
    "    s_t = Qs*np.random.poisson(16*lam0s, ns)\n",
    "    # trades need to be won \n",
    "    b_t[np.random.uniform(size=ns) < 1.0-1.0/beta] = 0.0 # implemented as lost\n",
    "    s_t[np.random.uniform(size=ns) < 1.0-1.0/beta] = 0.0\n",
    "    It[t+1,:] = s_t - b_t + It[t,:]\n",
    "    Ct[t+1,:] = Ct[t,:] + Pt[t+1,:]*(b_t*np.exp(sA)-s_t*np.exp(-sB))\n",
    "    Vt[t+1,:] = Ct[t+1,:] + It[t+1,:]*Pt[t+1,:]*(b_t*np.exp(sA)-s_t*np.exp(-sB))\n",
    "    \n",
    "print(np.mean(Vt), np.std(Vt))"
   ]
  },
  {
   "cell_type": "code",
   "execution_count": null,
   "metadata": {
    "collapsed": true
   },
   "outputs": [],
   "source": []
  }
 ],
 "metadata": {
  "kernelspec": {
   "display_name": "Python 3",
   "language": "python",
   "name": "python3"
  },
  "language_info": {
   "codemirror_mode": {
    "name": "ipython",
    "version": 3
   },
   "file_extension": ".py",
   "mimetype": "text/x-python",
   "name": "python",
   "nbconvert_exporter": "python",
   "pygments_lexer": "ipython3",
   "version": "3.6.3"
  }
 },
 "nbformat": 4,
 "nbformat_minor": 2
}
