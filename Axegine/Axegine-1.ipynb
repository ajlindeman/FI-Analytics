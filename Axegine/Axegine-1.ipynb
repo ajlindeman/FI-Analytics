{
 "cells": [
  {
   "cell_type": "markdown",
   "metadata": {},
   "source": [
    "# Axegine Optimal B/A Pricing Model  - ajl"
   ]
  },
  {
   "cell_type": "markdown",
   "metadata": {},
   "source": [
    "## Problem (re) statement and analysis\n",
    "\n",
    "We are making markets in a single risky asset having a lognormal price process\n",
    "$$\n",
    "dP_t = P_t\\left( \\mu\\,dt + \\sigma\\,dW_t\\right).\n",
    "$$\n",
    "\n",
    "Buy and sell orders are modeled as a Poisson counting process with densities $\\lambda_0^b$ and $\\lambda_0^s$. Our quotes take the form\n",
    "$$\n",
    "P_te^{\\pm s_t}\n",
    "$$\n",
    "and the probability the quote is accepted is modeled as\n",
    "$$\n",
    "\\lambda_1^\\cdot(s_t) = e^{-\\beta s^\\cdot_t}.\n",
    "$$\n",
    "Note $\\beta$ is a parameter reflecting the fact that we cannot guarantee winning the trade by setting the spread to zero:\n",
    "$$\n",
    "P(\\text{agent}\\,\\text{buys}\\,\\vert\\, s\\in[0,\\delta)) = \\int_0^\\delta e^{-\\beta s}\\,ds=1-\\frac 1\\beta e^{-\\beta\\delta} \\approx 1 - \\frac 1\\beta +\\delta.\n",
    "$$\n",
    "Obviously we must have $\\beta\\geq 1$, and really only $\\beta > 1$ is realistic, as other dealers may be better buyers and sellers (perhaps using a different utility function than us).\n",
    "\n",
    "_**Claim**: Accepted trades arrive at rate $\\lambda^\\cdot = \\lambda_0^\\cdot \\times \\lambda_1^\\cdot.$_ (TODO)\n",
    "\n",
    "Trade quantities are denoted by $Q$. In this setup the change in inventory is goverened by\n",
    "$$\n",
    "dI_t = \\left(Q^s\\lambda^s - Q^b\\lambda^b\\right)\\,dt\n",
    "$$\n",
    "In words, the difference between expected agent sells (our buys) and expected agent buys (our sells) over a small time period.\n",
    "\n",
    "The change in our cash account is similar, except that we have to reflect the transaction prices:\n",
    "$$\n",
    "dC_t = P_t\\left(Q^b\\lambda^b e^{s^A} - Q^s\\lambda^s e^{-s^B} \\right)\\,dt\n",
    "$$\n",
    "As a mental check, if we take $Q=1$ and $s=s^A=s^B$ and $\\lambda = \\lambda^b = \\lambda^a$ we have\n",
    "$$\n",
    "dC_t = Q\\lambda P_t\\left(e^s - e^{-s}\\right)\\,dt\\approx 2 Q\\lambda P_t s\\,dt\n",
    "$$\n",
    "which is twice the (\"proportional\") spread times the expected quantity traded. (I.e. the spread convention here is a percentage of value, not the more usual absolute amount.)\n",
    "\n",
    "Our wealth process is simply the sum of the cash account and value of our position (taken at mid):\n",
    "$$\n",
    "\\Pi_t = C_t + I_t P_t,\n",
    "$$\n",
    "and we are asked to choose a policy $\\left\\{s^A_t, s^B_t\\right\\}$ that maximizes exponential utility at some terminal time $T$:\n",
    "$$\n",
    "   \\max {\\bf E}\\left[-e^{-\\Pi(T)}\\right]\n",
    "$$\n",
    "\n",
    "### Observations\n",
    "\n",
    "* No time value of money (risk-free rate is zero).\n",
    "* Can borrow indefinitely, implying no upper limit on long position\n",
    "* Can short indefinitely\n",
    "* No penalty for holding inventory; no link between spreads and inventory\n",
    "* No explicity hedging of position, although $P_t$ could reprsent the price dynamics of a hedged portfolio\n",
    "* Might re-parameterize to the arrival rate of unit orders - i.e. collapse $Q$ and $\\lambda$.\n",
    "\n",
    "### Overall solution strategy\n",
    "\n",
    "* Simulate to check understanding and validate expected sensitivites, such as \n",
    "  * Don't really see any time-dependence here\n",
    "  * Similarly the policy won't depend on position, \n",
    "  * So perhaps it doesn't depend on wealth, and it's a constant \n",
    "  * Bid and ask spreads won't be symmetric - the asymmetry should be controlled by $\\mu$ and the relative arrival rates of buy and sell orders (and relative buy and sell sizes).\n",
    "  * Bid and ask spreads increase with $\\sigma$\n",
    "* Write down the SDE for the wealth process\n",
    "* Find the infinitessimal generator and pose the optimization as an HJB equation\n",
    "* Assume a classical solution and \"differentiate\" to find the optimal policy\n",
    "* Analyze the PDE more to see what we can say about expected terinal wealth"
   ]
  },
  {
   "cell_type": "markdown",
   "metadata": {},
   "source": [
    "## Simulation"
   ]
  },
  {
   "cell_type": "code",
   "execution_count": 1,
   "metadata": {
    "collapsed": true
   },
   "outputs": [],
   "source": [
    "import numpy as np\n",
    "import matplotlib.pylab as plt"
   ]
  },
  {
   "cell_type": "code",
   "execution_count": 2,
   "metadata": {
    "collapsed": true
   },
   "outputs": [],
   "source": [
    "class AxSim(object):\n",
    "    def __init__(self, P0, T, dt, mu, sig, lam0b, lam0s, beta, ns):\n",
    "        self.P0 = P0\n",
    "        self.T = T\n",
    "        self.dt = dt\n",
    "        self.mu = mu\n",
    "        self.sig = sig\n",
    "        self.lam0b = lam0b\n",
    "        self.lam0s = lam0s\n",
    "        self.beta = beta\n",
    "        self.ns = ns                \n",
    "        self.Qb = 1.0        \n",
    "        self.Qs = 1.0\n",
    "        \n",
    "    def run_sim(self, sA, sB, prt_out):\n",
    "        Pt = np.zeros((self.T+1, self.ns))\n",
    "        Ct = np.zeros((self.T+1, self.ns))\n",
    "        It = np.zeros((self.T+1, self.ns))\n",
    "        Vt = np.zeros((self.T+1, self.ns))\n",
    "        Pt[0,:] = self.P0\n",
    "        ba_t = np.zeros((self.T+1, self.ns)) # buy arrivals\n",
    "        sa_t = np.zeros((self.T+1, self.ns))\n",
    "        bw_t = np.zeros((self.T+1, self.ns)) # buy wins\n",
    "        sw_t = np.zeros((self.T+1, self.ns))        \n",
    "        for t in range(self.T):\n",
    "            # price process\n",
    "            Wt = np.random.normal(scale=np.sqrt(self.dt), size=self.ns)\n",
    "            X = np.exp((self.mu-0.5*self.sig**2)*self.dt) * np.exp(self.sig*Wt)\n",
    "            Pt[t+1,:] = Pt[t,:] * X\n",
    "            # order arrivals\n",
    "            ba_t[t+1,:] = np.random.poisson(self.lam0b/12, self.ns) \n",
    "            sa_t[t+1,:] = np.random.poisson(self.lam0b/12, self.ns) \n",
    "            # prob our quote wins\n",
    "            pb, pa = np.exp(-self.beta*sA), np.exp(-self.beta*sB)\n",
    "            bw_t[t+1,:] = self.Qb*ba_t[t+1,:]*np.random.binomial(1, pb, size=self.ns)\n",
    "            sw_t[t+1,:] = self.Qs*sa_t[t+1,:]*np.random.binomial(1, pa, size=self.ns)\n",
    "            It[t+1,:] = It[t,:] + (sw_t[t+1,:] - bw_t[t+1,:]) # cust sells - cust buys\n",
    "            Ct[t+1,:] = Ct[t,:] + Pt[t,:]*(bw_t[t+1,:]*np.exp(sA) \n",
    "                                           - sw_t[t+1,:]*np.exp(-sB)) \n",
    "            Vt[t+1,:] = Ct[t+1,:] + It[t+1,:]*Pt[t+1,:] # quote at P(t), mark at P(t+1)\n",
    "        if prt_out:\n",
    "            print('Bid arrivals per dt=%4.3f'%np.mean(np.mean(ba_t,axis=1)))\n",
    "            print('Bids won per dt=%4.3f'%np.mean(np.mean(bw_t,axis=1)))\n",
    "        return Vt, Ct, It"
   ]
  },
  {
   "cell_type": "code",
   "execution_count": 3,
   "metadata": {},
   "outputs": [],
   "source": [
    "T = 250 # days\n",
    "dt = 0.125 # 8 trading hours per day\n",
    "Qs = 1.0 # unit customer sell size\n",
    "Qb = 1.0 # unit customer buy size\n",
    "mu = 0.02/250.0  # 2% per annum\n",
    "sig = 0.01/np.sqrt(T) # 1% asset vol (eg high-quality bond)\n",
    "lam0s = 0.6033*8.0 # 33% chance per dt via P(N(1/8)=1) = lam/8 exp(-lam/8) = 0.33\n",
    "lam0b = lam0s # let's make buys and sells symmetric\n",
    "beta = 8.0 # so we are only X% likely to win a trade with a zero spread\n",
    "gam = 0.1\n",
    "P0 = 100.0"
   ]
  },
  {
   "cell_type": "code",
   "execution_count": 4,
   "metadata": {
    "collapsed": true
   },
   "outputs": [],
   "source": [
    "sim1 = AxSim(P0, T, dt, mu, sig, lam0b, lam0s, 75.0, 1000)"
   ]
  },
  {
   "cell_type": "code",
   "execution_count": 5,
   "metadata": {
    "scrolled": false
   },
   "outputs": [
    {
     "name": "stdout",
     "output_type": "stream",
     "text": [
      "Bid arrivals per dt=0.402\n",
      "Bids won per dt=0.010\n",
      "24.1616420068 12.5644752121 -0.167976113687\n"
     ]
    },
    {
     "data": {
      "image/png": "[encoded data removed]",
      "text/plain": [
       "<matplotlib.figure.Figure at 0x1085ab2b0>"
      ]
     },
     "metadata": {},
     "output_type": "display_data"
    }
   ],
   "source": [
    "np.random.seed(123)\n",
    "Vt, Ct, It = sim1.run_sim(0.05, 0.05, True)\n",
    "UT = -np.exp(-gam*Vt[T,])\n",
    "print(np.mean(Vt[T,]), np.std(Vt[T,]), np.mean(UT))\n",
    "plt.hist(Vt[T,])\n",
    "plt.show()"
   ]
  },
  {
   "cell_type": "code",
   "execution_count": 6,
   "metadata": {},
   "outputs": [
    {
     "name": "stdout",
     "output_type": "stream",
     "text": [
      "Bid arrivals per dt=0.402\n",
      "Bids won per dt=0.191\n",
      "95.2171678787 11.2405838467 -0.000132340272945\n"
     ]
    },
    {
     "data": {
      "image/png": "[encoded data removed]",
      "text/plain": [
       "<matplotlib.figure.Figure at 0x10a5a5d30>"
      ]
     },
     "metadata": {},
     "output_type": "display_data"
    }
   ],
   "source": [
    "np.random.seed(123)\n",
    "Vt, Ct, It = sim1.run_sim(0.01, 0.01, True)\n",
    "UT = -np.exp(-gam*Vt[T,])\n",
    "print(np.mean(Vt[T,]), np.std(Vt[T,]), np.mean(UT))\n",
    "plt.hist(Vt[T,])\n",
    "plt.show()"
   ]
  },
  {
   "cell_type": "code",
   "execution_count": 8,
   "metadata": {},
   "outputs": [
    {
     "data": {
      "image/png": "[encoded data removed]",
      "text/plain": [
       "<matplotlib.figure.Figure at 0x10a5963c8>"
      ]
     },
     "metadata": {},
     "output_type": "display_data"
    }
   ],
   "source": [
    "sj = np.arange(0.0, 0.11, 0.0025)\n",
    "mv = np.zeros(np.shape(sj))\n",
    "mu = np.zeros(np.shape(sj))\n",
    "for j, s_j in enumerate(sj):\n",
    "    np.random.seed(123)\n",
    "    Vt, Ct, It = sim1.run_sim(s_j, s_j, False)\n",
    "    mv[j] = np.mean(Vt[T,:])\n",
    "    mu[j] = np.mean(-gam*np.exp(-Vt[T,:]))\n",
    "\n",
    "fig, ax1 = plt.subplots()\n",
    "ax2 = ax1.twinx()\n",
    "\n",
    "ax1.plot(sj, mv, 'b');\n",
    "ax2.plot(sj[1:], mu[1:], 'r');\n",
    "plt.grid(True);\n",
    "ax1.set_xlabel('Spread');\n",
    "ax1.set_ylabel('E[V_T]', color='b');\n",
    "ax2.set_ylabel('E[U_T]', color='r');\n",
    "plt.show();"
   ]
  }
 ],
 "metadata": {
  "kernelspec": {
   "display_name": "Python 3",
   "language": "python",
   "name": "python3"
  },
  "language_info": {
   "codemirror_mode": {
    "name": "ipython",
    "version": 3
   },
   "file_extension": ".py",
   "mimetype": "text/x-python",
   "name": "python",
   "nbconvert_exporter": "python",
   "pygments_lexer": "ipython3",
   "version": "3.6.3"
  }
 },
 "nbformat": 4,
 "nbformat_minor": 2
}
