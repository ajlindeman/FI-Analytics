{
 "cells": [
  {
   "cell_type": "markdown",
   "metadata": {},
   "source": [
    "# Warmup: Estimating Discount Factors from Fixed Rate Bond Prices\n",
    "\n",
    "Fixed rate bonds have a particularly simple pricing formula. Given unobserved discount factors (one at each cashflow date), the pricing formula is dot product. For the $i$-th bond having price $p_i$ and cashflow $c_{i,j}$ at cashflow date $j$ we have\n",
    "$$ \n",
    "  p_i = \\sum c_{i,j} z_j = \\text{dot}(c,z).\n",
    "$$\n",
    "When there are multiple bonds we can write this as a matrix equation\n",
    "$$\n",
    "  Cz = p.\n",
    "$$\n",
    "Thus our first estimation problem is determining the unobserved vector $z$ given the price vector $p$ and cashflow matrix $C$.\n",
    "\n",
    "We shouldn't be too surprised that this is typically an under-determined problem -- after all, each bond pays on multiple dates, and unless the dates line up in a perfect way, there will be more cashflow dates than bonds.\n",
    "\n",
    "Therefore we need to impose some regularity conditions in order to uniquely determine $z$."
   ]
  },
  {
   "cell_type": "code",
   "execution_count": 1,
   "metadata": {},
   "outputs": [],
   "source": [
    "import pandas as pd\n",
    "import numpy as np\n",
    "import datetime as dt\n",
    "import quadprog as qp\n",
    "import matplotlib.pylab as plt"
   ]
  },
  {
   "cell_type": "code",
   "execution_count": 2,
   "metadata": {},
   "outputs": [
    {
     "data": {
      "text/html": [
       "<div>\n",
       "<style>\n",
       "    .dataframe thead tr:only-child th {\n",
       "        text-align: right;\n",
       "    }\n",
       "\n",
       "    .dataframe thead th {\n",
       "        text-align: left;\n",
       "    }\n",
       "\n",
       "    .dataframe tbody tr th {\n",
       "        vertical-align: top;\n",
       "    }\n",
       "</style>\n",
       "<table border=\"1\" class=\"dataframe\">\n",
       "  <thead>\n",
       "    <tr style=\"text-align: right;\">\n",
       "      <th></th>\n",
       "      <th>coupon</th>\n",
       "      <th>dirty price</th>\n",
       "      <th>maturity</th>\n",
       "      <th>pd-1</th>\n",
       "      <th>pd-2</th>\n",
       "      <th>pd-3</th>\n",
       "      <th>pd-4</th>\n",
       "      <th>pd-5</th>\n",
       "      <th>pd-6</th>\n",
       "      <th>pd-7</th>\n",
       "      <th>pd-8</th>\n",
       "      <th>pd-9</th>\n",
       "    </tr>\n",
       "  </thead>\n",
       "  <tbody>\n",
       "    <tr>\n",
       "      <th>0</th>\n",
       "      <td>2.375</td>\n",
       "      <td>101.9825</td>\n",
       "      <td>5/15/2018</td>\n",
       "      <td>11/15/2017</td>\n",
       "      <td>NaN</td>\n",
       "      <td>NaN</td>\n",
       "      <td>NaN</td>\n",
       "      <td>NaN</td>\n",
       "      <td>NaN</td>\n",
       "      <td>NaN</td>\n",
       "      <td>NaN</td>\n",
       "      <td>NaN</td>\n",
       "    </tr>\n",
       "    <tr>\n",
       "      <th>1</th>\n",
       "      <td>3.250</td>\n",
       "      <td>105.4372</td>\n",
       "      <td>12/15/2019</td>\n",
       "      <td>6/15/2019</td>\n",
       "      <td>12/15/2018</td>\n",
       "      <td>6/15/2018</td>\n",
       "      <td>12/15/2017</td>\n",
       "      <td>NaN</td>\n",
       "      <td>NaN</td>\n",
       "      <td>NaN</td>\n",
       "      <td>NaN</td>\n",
       "      <td>NaN</td>\n",
       "    </tr>\n",
       "    <tr>\n",
       "      <th>2</th>\n",
       "      <td>1.875</td>\n",
       "      <td>101.7911</td>\n",
       "      <td>1/15/2020</td>\n",
       "      <td>7/15/2019</td>\n",
       "      <td>1/15/2019</td>\n",
       "      <td>7/15/2018</td>\n",
       "      <td>1/15/2018</td>\n",
       "      <td>NaN</td>\n",
       "      <td>NaN</td>\n",
       "      <td>NaN</td>\n",
       "      <td>NaN</td>\n",
       "      <td>NaN</td>\n",
       "    </tr>\n",
       "    <tr>\n",
       "      <th>3</th>\n",
       "      <td>1.375</td>\n",
       "      <td>98.9160</td>\n",
       "      <td>3/31/2021</td>\n",
       "      <td>9/30/2020</td>\n",
       "      <td>3/31/2020</td>\n",
       "      <td>9/30/2019</td>\n",
       "      <td>3/31/2019</td>\n",
       "      <td>9/30/2018</td>\n",
       "      <td>3/31/2018</td>\n",
       "      <td>NaN</td>\n",
       "      <td>NaN</td>\n",
       "      <td>NaN</td>\n",
       "    </tr>\n",
       "    <tr>\n",
       "      <th>4</th>\n",
       "      <td>4.125</td>\n",
       "      <td>110.0907</td>\n",
       "      <td>10/15/2022</td>\n",
       "      <td>4/15/2022</td>\n",
       "      <td>10/15/2021</td>\n",
       "      <td>4/15/2021</td>\n",
       "      <td>10/15/2020</td>\n",
       "      <td>4/15/2020</td>\n",
       "      <td>10/15/2019</td>\n",
       "      <td>4/15/2019</td>\n",
       "      <td>10/15/2018</td>\n",
       "      <td>4/15/2018</td>\n",
       "    </tr>\n",
       "  </tbody>\n",
       "</table>\n",
       "</div>"
      ],
      "text/plain": [
       "   coupon  dirty price    maturity        pd-1        pd-2       pd-3  \\\n",
       "0   2.375     101.9825   5/15/2018  11/15/2017         NaN        NaN   \n",
       "1   3.250     105.4372  12/15/2019   6/15/2019  12/15/2018  6/15/2018   \n",
       "2   1.875     101.7911   1/15/2020   7/15/2019   1/15/2019  7/15/2018   \n",
       "3   1.375      98.9160   3/31/2021   9/30/2020   3/31/2020  9/30/2019   \n",
       "4   4.125     110.0907  10/15/2022   4/15/2022  10/15/2021  4/15/2021   \n",
       "\n",
       "         pd-4       pd-5        pd-6       pd-7        pd-8       pd-9  \n",
       "0         NaN        NaN         NaN        NaN         NaN        NaN  \n",
       "1  12/15/2017        NaN         NaN        NaN         NaN        NaN  \n",
       "2   1/15/2018        NaN         NaN        NaN         NaN        NaN  \n",
       "3   3/31/2019  9/30/2018   3/31/2018        NaN         NaN        NaN  \n",
       "4  10/15/2020  4/15/2020  10/15/2019  4/15/2019  10/15/2018  4/15/2018  "
      ]
     },
     "execution_count": 2,
     "metadata": {},
     "output_type": "execute_result"
    }
   ],
   "source": [
    "bond_df = pd.read_csv('./Data/sample-bonds-1.csv')\n",
    "bond_df.head()"
   ]
  },
  {
   "cell_type": "code",
   "execution_count": 3,
   "metadata": {
    "collapsed": true
   },
   "outputs": [],
   "source": [
    "T0 = dt.datetime(2017,11,7)\n",
    "pd = [ [(dt.datetime.strptime(x,'%m/%d/%Y')-T0).days if type(x) is str else 0 for j,x in item.iteritems()] for i, item in bond_df.iloc[:,2:].iterrows()]"
   ]
  },
  {
   "cell_type": "code",
   "execution_count": 4,
   "metadata": {},
   "outputs": [
    {
     "name": "stdout",
     "output_type": "stream",
     "text": [
      "5 bonds and 29 cashflow dates\n"
     ]
    }
   ],
   "source": [
    "u_pd = np.unique(np.ravel(pd))\n",
    "u_pd = u_pd[np.where(u_pd>0)]\n",
    "n = len(bond_df)\n",
    "m = len(u_pd)\n",
    "print('%d bonds and %d cashflow dates' % (n,m) )"
   ]
  },
  {
   "cell_type": "code",
   "execution_count": 5,
   "metadata": {
    "collapsed": true
   },
   "outputs": [],
   "source": [
    "p = np.array(bond_df['dirty price'])\n",
    "C = np.zeros( (n,m) )\n",
    "for i in range(n):\n",
    "    c = 0.5*bond_df.iloc[i,0]\n",
    "    for k,x in enumerate(pd[i]):\n",
    "        if x>0:\n",
    "            j = np.where(u_pd==x)[0][0]\n",
    "            C[i,j] = c if k > 0 else 100+c"
   ]
  },
  {
   "cell_type": "code",
   "execution_count": 6,
   "metadata": {},
   "outputs": [
    {
     "data": {
      "image/png": "[encoded data removed]",
      "text/plain": [
       "<matplotlib.figure.Figure at 0x10a221f60>"
      ]
     },
     "metadata": {},
     "output_type": "display_data"
    }
   ],
   "source": [
    "plt.spy(C);\n",
    "plt.show();"
   ]
  },
  {
   "cell_type": "markdown",
   "metadata": {},
   "source": [
    "## First attempt\n",
    "\n",
    "First we solve using the psuedo-inverse."
   ]
  },
  {
   "cell_type": "code",
   "execution_count": 7,
   "metadata": {},
   "outputs": [
    {
     "name": "stdout",
     "output_type": "stream",
     "text": [
      "[ 0.01182621  0.01657304  0.00936324  0.00670605  0.02171796  1.00771791\n",
      "  0.01657304  0.00936324  0.00670605  0.02171796  0.01657304  0.00936324\n",
      "  0.00670605  0.02171796  0.01657304  0.00936324  0.00670605  0.02171796\n",
      "  1.0364524   1.00810886  0.00670605  0.02171796  0.00670605  0.02171796\n",
      "  0.98213122  0.02171796  0.02171796  0.02171796  1.07470972]\n",
      "Error=6.2e-14\n"
     ]
    }
   ],
   "source": [
    "z = np.linalg.pinv(C).dot(p)\n",
    "print(z)\n",
    "print('Error=%3.2g' % np.linalg.norm(C.dot(z)-p))"
   ]
  },
  {
   "cell_type": "markdown",
   "metadata": {},
   "source": [
    "Not surprisingly the error is numerically zero. However, the solution does not meet our usual expectations about discount factors: they should be decreasing and between 0 and 1. (This assumes interest rates are non-negative, which in reality does not always hold.)\n",
    "\n",
    "Let's convert this a minimization problem where we can apply contraints.\n",
    "$$\\begin{align}\n",
    "  \\tfrac {1}{2} \\|Cz-p\\|^2 &= {\\tfrac {1}{2}} <Cz,Cz>^2 - <Cz,p> + {\\tfrac {1}{2}} <p,p>^2 \\\\\n",
    "             &= {\\tfrac {1}{2}} z'C'Cz - p'Cz + {\\tfrac {1}{2}} p'p\n",
    "\\end{align}$$\n",
    "\n",
    "This can be solved numerically with a Quadratic Programming (QP) solver."
   ]
  },
  {
   "cell_type": "code",
   "execution_count": 8,
   "metadata": {
    "collapsed": true
   },
   "outputs": [],
   "source": [
    "# Set up the problem with H = C'C and f - p'C\n",
    "H = C.T.dot(C)\n",
    "H1 = H + np.diag(1e-9*np.ones(len(C.T))) # make G positive definite\n",
    "f = p.dot(C)"
   ]
  },
  {
   "cell_type": "code",
   "execution_count": 9,
   "metadata": {},
   "outputs": [
    {
     "name": "stdout",
     "output_type": "stream",
     "text": [
      "[ 0.01182066  0.01661702  0.00934328  0.00668845  0.02181274  1.00771798\n",
      "  0.01660358  0.00934042  0.00668947  0.02178905  0.01661831  0.00933326\n",
      "  0.00669645  0.02180326  0.01661797  0.00933799  0.00669645  0.02179308\n",
      "  1.03644977  1.00810977  0.00669633  0.02178544  0.00669633  0.02180292\n",
      "  0.98213172  0.02177817  0.02179908  0.02178841  1.07469576]\n",
      "Error=2.3e-11\n"
     ]
    }
   ],
   "source": [
    "# Initial QP solution without contraints. It should be close to our pseudo-inverse soltuion\n",
    "qp_res = qp.solve_qp(H1,f)\n",
    "z = qp_res[0]\n",
    "print(z)\n",
    "print('Error=%3.2g' % np.linalg.norm(C.dot(z)-p))"
   ]
  },
  {
   "cell_type": "markdown",
   "metadata": {},
   "source": [
    "Now add contraints\n",
    "$$\\begin{gather}\n",
    "  z_j > z_{j+1} \\\\\n",
    "  1 > z_j > 0\n",
    "\\end{gather}$$"
   ]
  },
  {
   "cell_type": "code",
   "execution_count": 10,
   "metadata": {
    "collapsed": true
   },
   "outputs": [],
   "source": [
    "# z_j - z_{j+1} > 0\n",
    "A1 = np.diag(np.ones(m)) - np.diag(np.ones(m-1),1)\n",
    "A1 = A1[:m-1,0:m]\n",
    "b1 = np.zeros(m-1)\n",
    "\n",
    "# -z > -1\n",
    "A2 = -np.diag(np.ones(m))\n",
    "b2 = -np.ones(m)\n",
    "\n",
    "# z > 0\n",
    "A3 = np.diag(np.ones(m))\n",
    "b3 = np.zeros(m)\n",
    "\n",
    "A = np.block([\n",
    "    [A1],\n",
    "    [A2],\n",
    "    [A3]\n",
    "])\n",
    "\n",
    "b = np.block([b1,b2,b3])"
   ]
  },
  {
   "cell_type": "code",
   "execution_count": 11,
   "metadata": {},
   "outputs": [
    {
     "name": "stdout",
     "output_type": "stream",
     "text": [
      "[ 0.99616606  0.99616606  0.99616606  0.99616606  0.99616606  0.99616606\n",
      "  0.97482094  0.97482094  0.97482094  0.97482094  0.97482094  0.97482094\n",
      "  0.97482094  0.97482094  0.97482094  0.97482094  0.97482094  0.97482094\n",
      "  0.97482094  0.97204221  0.94276123  0.94276123  0.94276123  0.94276123\n",
      "  0.94276123  0.90637887  0.90637887  0.90637887  0.90637887]\n",
      "Error=1.41e-10\n"
     ]
    }
   ],
   "source": [
    "qp_res = qp.solve_qp(H1,f,A.T,b)\n",
    "z = qp_res[0]\n",
    "print(z)\n",
    "print('Error=%4.3g' % np.linalg.norm(C.dot(z)-p))"
   ]
  },
  {
   "cell_type": "markdown",
   "metadata": {},
   "source": [
    "Now we have a non-increasingfunction with values that look like discount factors and a very good fit.\n",
    "\n",
    "Before claiming success however, let's look at the implied zero rates $r(t)$, which are defined as\n",
    "$$\n",
    "   z_j = e^{-r(t_j)t_j}\n",
    "$$"
   ]
  },
  {
   "cell_type": "code",
   "execution_count": 12,
   "metadata": {},
   "outputs": [
    {
     "data": {
      "image/png": "[encoded data removed]",
      "text/plain": [
       "<matplotlib.figure.Figure at 0x1127e3198>"
      ]
     },
     "metadata": {},
     "output_type": "display_data"
    }
   ],
   "source": [
    "tj = u_pd/365.0\n",
    "plt.figure( figsize=(12,3) )\n",
    "plt.subplot(1,2,1)\n",
    "plt.plot(tj, z,'bo');\n",
    "plt.grid(True)\n",
    "plt.xlabel('Time t in years')\n",
    "plt.ylabel('Discount factors')\n",
    "plt.subplot(1,2,2)\n",
    "plt.plot(tj, -np.log(z)/tj,'bo');\n",
    "plt.grid(True)\n",
    "plt.xlabel('Time t in years')\n",
    "plt.ylabel('Zero rates')\n",
    "plt.show();"
   ]
  },
  {
   "cell_type": "markdown",
   "metadata": {},
   "source": [
    "Observe neither curve is \"smooth\". Perhaps our solution is still not regular enough. To proceed we can treat $r(t_j)$ as state and impose regularity there. However, this will lead us to the realm where pricing is a non-linear function of state."
   ]
  }
 ],
 "metadata": {
  "anaconda-cloud": {},
  "kernelspec": {
   "display_name": "Python 3",
   "language": "python",
   "name": "python3"
  },
  "language_info": {
   "codemirror_mode": {
    "name": "ipython",
    "version": 3
   },
   "file_extension": ".py",
   "mimetype": "text/x-python",
   "name": "python",
   "nbconvert_exporter": "python",
   "pygments_lexer": "ipython3",
   "version": "3.6.3"
  }
 },
 "nbformat": 4,
 "nbformat_minor": 1
}
