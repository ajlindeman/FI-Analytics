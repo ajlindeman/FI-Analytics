{
 "cells": [
  {
   "cell_type": "code",
   "execution_count": 1,
   "metadata": {
    "collapsed": true
   },
   "outputs": [],
   "source": [
    "import pandas as pd\n",
    "import numpy as np\n",
    "import datetime as dt\n",
    "import matplotlib.pylab as plt"
   ]
  },
  {
   "cell_type": "code",
   "execution_count": 2,
   "metadata": {
    "collapsed": false
   },
   "outputs": [
    {
     "data": {
      "text/html": [
       "<div>\n",
       "<table border=\"1\" class=\"dataframe\">\n",
       "  <thead>\n",
       "    <tr style=\"text-align: right;\">\n",
       "      <th></th>\n",
       "      <th>coupon</th>\n",
       "      <th>dirty price</th>\n",
       "      <th>maturity</th>\n",
       "      <th>pd-1</th>\n",
       "      <th>pd-2</th>\n",
       "      <th>pd-3</th>\n",
       "      <th>pd-4</th>\n",
       "      <th>pd-5</th>\n",
       "      <th>pd-6</th>\n",
       "      <th>pd-7</th>\n",
       "      <th>pd-8</th>\n",
       "      <th>pd-9</th>\n",
       "    </tr>\n",
       "  </thead>\n",
       "  <tbody>\n",
       "    <tr>\n",
       "      <th>0</th>\n",
       "      <td>2.375</td>\n",
       "      <td>103.4270</td>\n",
       "      <td>5/15/2018</td>\n",
       "      <td>11/15/2017</td>\n",
       "      <td>NaN</td>\n",
       "      <td>NaN</td>\n",
       "      <td>NaN</td>\n",
       "      <td>NaN</td>\n",
       "      <td>NaN</td>\n",
       "      <td>NaN</td>\n",
       "      <td>NaN</td>\n",
       "      <td>NaN</td>\n",
       "    </tr>\n",
       "    <tr>\n",
       "      <th>1</th>\n",
       "      <td>3.250</td>\n",
       "      <td>109.3515</td>\n",
       "      <td>12/15/2019</td>\n",
       "      <td>6/15/2019</td>\n",
       "      <td>12/15/2018</td>\n",
       "      <td>6/15/2018</td>\n",
       "      <td>12/15/2017</td>\n",
       "      <td>NaN</td>\n",
       "      <td>NaN</td>\n",
       "      <td>NaN</td>\n",
       "      <td>NaN</td>\n",
       "      <td>NaN</td>\n",
       "    </tr>\n",
       "    <tr>\n",
       "      <th>2</th>\n",
       "      <td>1.875</td>\n",
       "      <td>102.3775</td>\n",
       "      <td>1/15/2020</td>\n",
       "      <td>7/15/2019</td>\n",
       "      <td>1/15/2019</td>\n",
       "      <td>7/15/2018</td>\n",
       "      <td>1/15/2018</td>\n",
       "      <td>NaN</td>\n",
       "      <td>NaN</td>\n",
       "      <td>NaN</td>\n",
       "      <td>NaN</td>\n",
       "      <td>NaN</td>\n",
       "    </tr>\n",
       "    <tr>\n",
       "      <th>3</th>\n",
       "      <td>1.375</td>\n",
       "      <td>98.3399</td>\n",
       "      <td>3/31/2021</td>\n",
       "      <td>9/30/2020</td>\n",
       "      <td>3/31/2020</td>\n",
       "      <td>9/30/2019</td>\n",
       "      <td>3/31/2019</td>\n",
       "      <td>9/30/2018</td>\n",
       "      <td>3/31/2018</td>\n",
       "      <td>NaN</td>\n",
       "      <td>NaN</td>\n",
       "      <td>NaN</td>\n",
       "    </tr>\n",
       "    <tr>\n",
       "      <th>4</th>\n",
       "      <td>4.125</td>\n",
       "      <td>122.0532</td>\n",
       "      <td>10/15/2022</td>\n",
       "      <td>4/15/2022</td>\n",
       "      <td>10/15/2021</td>\n",
       "      <td>4/15/2021</td>\n",
       "      <td>10/15/2020</td>\n",
       "      <td>4/15/2020</td>\n",
       "      <td>10/15/2019</td>\n",
       "      <td>4/15/2019</td>\n",
       "      <td>10/15/2018</td>\n",
       "      <td>4/15/2018</td>\n",
       "    </tr>\n",
       "  </tbody>\n",
       "</table>\n",
       "</div>"
      ],
      "text/plain": [
       "   coupon  dirty price    maturity        pd-1        pd-2       pd-3  \\\n",
       "0   2.375     103.4270   5/15/2018  11/15/2017         NaN        NaN   \n",
       "1   3.250     109.3515  12/15/2019   6/15/2019  12/15/2018  6/15/2018   \n",
       "2   1.875     102.3775   1/15/2020   7/15/2019   1/15/2019  7/15/2018   \n",
       "3   1.375      98.3399   3/31/2021   9/30/2020   3/31/2020  9/30/2019   \n",
       "4   4.125     122.0532  10/15/2022   4/15/2022  10/15/2021  4/15/2021   \n",
       "\n",
       "         pd-4       pd-5        pd-6       pd-7        pd-8       pd-9  \n",
       "0         NaN        NaN         NaN        NaN         NaN        NaN  \n",
       "1  12/15/2017        NaN         NaN        NaN         NaN        NaN  \n",
       "2   1/15/2018        NaN         NaN        NaN         NaN        NaN  \n",
       "3   3/31/2019  9/30/2018   3/31/2018        NaN         NaN        NaN  \n",
       "4  10/15/2020  4/15/2020  10/15/2019  4/15/2019  10/15/2018  4/15/2018  "
      ]
     },
     "execution_count": 2,
     "metadata": {},
     "output_type": "execute_result"
    }
   ],
   "source": [
    "bond_df = pd.read_csv('./Data/sample-bonds-1.csv')\n",
    "bond_df.head()"
   ]
  },
  {
   "cell_type": "code",
   "execution_count": 3,
   "metadata": {
    "collapsed": false
   },
   "outputs": [],
   "source": [
    "T0 = dt.datetime(2017,11,7)\n",
    "pd = [ [(dt.datetime.strptime(x,'%m/%d/%Y')-T0).days if type(x) is str else 0 for j,x in item.iteritems()] for i, item in bond_df.iloc[:,2:].iterrows()]"
   ]
  },
  {
   "cell_type": "code",
   "execution_count": 4,
   "metadata": {
    "collapsed": false
   },
   "outputs": [
    {
     "name": "stdout",
     "output_type": "stream",
     "text": [
      "[   8   38   69  144  159  189  220  250  327  342  403  434  509  524  585\n",
      "  615  692  707  768  799  875  890 1058 1073 1240 1255 1438 1620 1803]\n"
     ]
    }
   ],
   "source": [
    "u_pd = np.unique(np.ravel(pd))\n",
    "u_pd = u_pd[np.where(u_pd>0)]\n",
    "print(u_pd)\n",
    "n = len(bond_df)\n",
    "m = len(u_pd)\n",
    "C = np.zeros( (n,m) )"
   ]
  },
  {
   "cell_type": "code",
   "execution_count": 5,
   "metadata": {
    "collapsed": false
   },
   "outputs": [],
   "source": [
    "for i in range(n):\n",
    "    c = 0.5*bond_df.iloc[i,0]\n",
    "    for k,x in enumerate(pd[i]):\n",
    "        if x>0:\n",
    "            j = np.where(u_pd==x)[0][0]\n",
    "            C[i,j] = c if k > 0 else 100+c"
   ]
  },
  {
   "cell_type": "code",
   "execution_count": 6,
   "metadata": {
    "collapsed": false
   },
   "outputs": [
    {
     "data": {
      "image/png": "[encoded data removed]",
      "text/plain": [
       "<matplotlib.figure.Figure at 0x9152780>"
      ]
     },
     "metadata": {},
     "output_type": "display_data"
    }
   ],
   "source": [
    "plt.spy(C);\n",
    "plt.show();"
   ]
  },
  {
   "cell_type": "code",
   "execution_count": 7,
   "metadata": {
    "collapsed": false
   },
   "outputs": [
    {
     "name": "stdout",
     "output_type": "stream",
     "text": [
      "[ 0.01199372  0.0171883   0.00941718  0.00666699  0.02407784  1.02199143\n",
      "  0.0171883   0.00941718  0.00666699  0.02407784  0.0171883   0.00941718\n",
      "  0.00666699  0.02407784  0.0171883   0.00941718  0.00666699  0.02407784\n",
      "  1.07493015  1.01391639  0.00666699  0.02407784  0.00666699  0.02407784\n",
      "  0.97641116  0.02407784  0.02407784  0.02407784  1.19148811]\n",
      "Error=4.7e-14\n"
     ]
    }
   ],
   "source": [
    "p = np.array(bond_df['dirty price'])\n",
    "z = np.linalg.pinv(C).dot(p)\n",
    "print(z)\n",
    "print('Error=%3.2g' % np.linalg.norm(C.dot(z)-p))"
   ]
  },
  {
   "cell_type": "code",
   "execution_count": 8,
   "metadata": {
    "collapsed": false
   },
   "outputs": [],
   "source": [
    "#! pip install quadprog"
   ]
  }
 ],
 "metadata": {
  "anaconda-cloud": {},
  "kernelspec": {
   "display_name": "Python [conda root]",
   "language": "python",
   "name": "conda-root-py"
  },
  "language_info": {
   "codemirror_mode": {
    "name": "ipython",
    "version": 3
   },
   "file_extension": ".py",
   "mimetype": "text/x-python",
   "name": "python",
   "nbconvert_exporter": "python",
   "pygments_lexer": "ipython3",
   "version": "3.5.2"
  }
 },
 "nbformat": 4,
 "nbformat_minor": 1
}
