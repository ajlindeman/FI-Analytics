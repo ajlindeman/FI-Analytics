{
 "cells": [
  {
   "cell_type": "code",
   "execution_count": 1,
   "metadata": {
    "collapsed": true
   },
   "outputs": [],
   "source": [
    "import numpy as np"
   ]
  },
  {
   "cell_type": "code",
   "execution_count": 132,
   "metadata": {
    "collapsed": true
   },
   "outputs": [],
   "source": [
    "# test data\n",
    "ti = np.array([0.0, 0.9, 2.1, 3.0, 4.5, 5.5, 10.])\n",
    "yi = np.array([0.0, 1.0, 1.5, 2.7, 5.0, 6.0, 7.0])\n",
    "tension = 1.0"
   ]
  },
  {
   "cell_type": "code",
   "execution_count": 133,
   "metadata": {},
   "outputs": [],
   "source": [
    "# solve the tri-diagonal system needed to interpolate\n",
    "ni = len(yi)\n",
    "dt = np.diff(ti)\n",
    "assert(np.min(dt) > 0)\n",
    "sigma = tension / np.max(dt)\n",
    "dydt = np.diff(yi)/dt\n",
    "tau = sigma * dt\n",
    "s1 = 1.0 / (dt * sigma**2)\n",
    "s2 = -2*dt*np.exp(-tau)/(tau*np.expm1(-2*tau))\n",
    "\n",
    "n = ni - 2\n",
    "w = dt / (tau*np.tanh(tau)) - s1\n",
    "sdiag = s1[1:n] - s2[1:n]\n",
    "diag = w[:n] + w[1:] \n",
    "b = np.diff(dydt)\n",
    "T = np.diag(sdiag,-1) + np.diag(sdiag,1) + np.diag(diag)\n",
    "ypps = np.zeros(ni)\n",
    "ypps[1:1+n] = np.linalg.solve(T,b)\n",
    "\n",
    "# interpolation function uses ti, yi, dt, tau, sigma, ypps\n",
    "def tension_interp(t):\n",
    "    res = np.zeros(np.shape(t))\n",
    "    res[np.where(t<=ti[0])] = yi[0]\n",
    "    res[np.where(t>=ti[-1])] = yi[-1]\n",
    "    gi = np.where( (ti[0] < t) & (t < ti[-1]) )\n",
    "    tg = t[gi]\n",
    "    ii = np.array([np.argmin(ti<tx) for _, tx in enumerate(tg)])\n",
    "    u = (ti[ii] - tg) / dt[ii-1]\n",
    "    v = 1-u\n",
    "    den = -np.expm1(-2*tau[ii-1])\n",
    "    eum = np.exp( (u-1)*tau[ii-1] )\n",
    "    eup = np.exp(-(u+1)*tau[ii-1] )\n",
    "    evm = np.exp( (v-1)*tau[ii-1] )\n",
    "    evp = np.exp(-(v+1)*tau[ii-1] )\n",
    "    \n",
    "    sig2 = sigma**2\n",
    "    p = ( ((eum - eup) / den) - u ) / sig2\n",
    "    q = ( ((evm - evp) / den) - v ) / sig2\n",
    "    g = ypps[ii-1]*p + ypps[ii]*q\n",
    "    res[gi] = u*yi[ii-1] + v*yi[ii] + g\n",
    "    \n",
    "    return res\n",
    "    "
   ]
  },
  {
   "cell_type": "code",
   "execution_count": 134,
   "metadata": {},
   "outputs": [
    {
     "data": {
      "image/png": "[encoded data removed]",
      "text/plain": [
       "<matplotlib.figure.Figure at 0x1199f8da0>"
      ]
     },
     "metadata": {},
     "output_type": "display_data"
    }
   ],
   "source": [
    "import matplotlib.pyplot as plt\n",
    "%matplotlib inline\n",
    "\n",
    "t = np.linspace(0,10,200)\n",
    "plt.plot(t, tension_interp(t),'b-')\n",
    "plt.plot(ti, yi, 'ro')\n",
    "plt.grid(True)\n",
    "plt.show()"
   ]
  },
  {
   "cell_type": "code",
   "execution_count": 50,
   "metadata": {},
   "outputs": [
    {
     "name": "stdout",
     "output_type": "stream",
     "text": [
      "[[ 0.67694934  0.18601239  0.          0.          0.        ]\n",
      " [ 0.18601239  0.67694934  0.14393064  0.          0.        ]\n",
      " [ 0.          0.14393064  0.76259121  0.22362281  0.        ]\n",
      " [ 0.          0.          0.22362281  0.79340999  0.15841204]\n",
      " [ 0.          0.          0.          0.15841204  1.3313118 ]]\n",
      "[-0.69444444  0.91666667  0.2        -0.53333333 -0.77777778]\n",
      "[-1.50520198  1.74451303  0.10912167 -0.60058318 -0.51275604]\n"
     ]
    }
   ],
   "source": [
    "N = ni - 2\n",
    "subDiag = np.zeros(N)\n",
    "superDiag = np.zeros(N)\n",
    "diag = np.zeros(N)\n",
    "b = np.zeros(N)\n",
    "\n",
    "diag[0] = dt[0] / (tau[0]*np.tanh(tau[0])) - s1[0]\n",
    "D = dt[1] / (tau[1]*np.tanh(tau[1])) - s1[1]\n",
    "diag[0] += D\n",
    "b[0] = dydt[1] - dydt[0]\n",
    "for i in range(1,n):\n",
    "    b[i] = dydt[i+1] - dydt[i]\n",
    "    diag[i] = D\n",
    "    D = dt[i+1] / (tau[i+1]*np.tanh(tau[i+1])) - s1[i+1]\n",
    "    diag[i] += D\n",
    "    subDiag[i] = s1[i] - s2[i]\n",
    "    superDiag[i-1] = subDiag[i]\n",
    "    \n",
    "T = np.diag(subDiag,-1)[1:,1:] + np.diag(diag) + np.diag(superDiag,1)[0:N,0:N]\n",
    "print(T)\n",
    "print(b)\n",
    "print(np.linalg.solve(T,b))"
   ]
  }
 ],
 "metadata": {
  "kernelspec": {
   "display_name": "Python 3",
   "language": "python",
   "name": "python3"
  },
  "language_info": {
   "codemirror_mode": {
    "name": "ipython",
    "version": 3
   },
   "file_extension": ".py",
   "mimetype": "text/x-python",
   "name": "python",
   "nbconvert_exporter": "python",
   "pygments_lexer": "ipython3",
   "version": "3.6.3"
  }
 },
 "nbformat": 4,
 "nbformat_minor": 2
}
