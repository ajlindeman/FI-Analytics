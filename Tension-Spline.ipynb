{
 "cells": [
  {
   "cell_type": "code",
   "execution_count": 1,
   "metadata": {
    "collapsed": true
   },
   "outputs": [],
   "source": [
    "import numpy as np\n",
    "import matplotlib.pyplot as plt\n",
    "%matplotlib inline"
   ]
  },
  {
   "cell_type": "code",
   "execution_count": 2,
   "metadata": {
    "collapsed": true
   },
   "outputs": [],
   "source": [
    "# test data\n",
    "xi = np.array([0.0, 0.9, 2.1, 3.0, 4.5, 5.5, 10.])\n",
    "zi = np.array([0.0, 1.0, 1.5, 2.7, 5.0, 6.0, 7.0])\n",
    "tens = 1.0"
   ]
  },
  {
   "cell_type": "code",
   "execution_count": 3,
   "metadata": {
    "collapsed": true
   },
   "outputs": [],
   "source": [
    "class TensionSpline(object):\n",
    "    def __init__(self, ti, yi, tension):\n",
    "        self.ti = ti\n",
    "        self.yi = yi\n",
    "        ni = len(yi)\n",
    "        self.dt = np.diff(ti)\n",
    "        assert(np.min(self.dt) > 0)\n",
    "        self.sigma = tension / np.max(self.dt)\n",
    "        dydt = np.diff(yi)/self.dt\n",
    "        self.tau = self.sigma * self.dt\n",
    "        s1 = 1.0 / (self.dt * self.sigma**2)\n",
    "        s2 = -2*self.dt*np.exp(-self.tau)/(self.tau*np.expm1(-2*self.tau))\n",
    "\n",
    "        n = ni - 2\n",
    "        w = self.dt / (self.tau*np.tanh(self.tau)) - s1\n",
    "        sdiag = s1[1:n] - s2[1:n]\n",
    "        diag = w[:n] + w[1:] \n",
    "        b = np.diff(dydt)\n",
    "        T = np.diag(sdiag,-1) + np.diag(sdiag,1) + np.diag(diag)\n",
    "        self.ypps = np.zeros(ni)\n",
    "        self.ypps[1:1+n] = np.linalg.solve(T,b)\n",
    "        \n",
    "    # interpolation function uses ti, yi, dt, tau, sigma, ypps    \n",
    "    def __call__(self, t_):\n",
    "        t = t_*np.ones(1) if np.isscalar(t_) else t_\n",
    "        res = np.zeros(np.shape(t))\n",
    "        res[np.where(t<=self.ti[0])] = self.yi[0]\n",
    "        res[np.where(t>=self.ti[-1])] = self.yi[-1]\n",
    "        gi = np.where( (self.ti[0] < t) & (t < self.ti[-1]) )\n",
    "        tg = t[gi]\n",
    "        ii = np.array([np.argmin(self.ti<tx) for _, tx in enumerate(tg)])\n",
    "        u = (self.ti[ii] - tg) / self.dt[ii-1]\n",
    "        v = 1-u\n",
    "        den = -np.expm1(-2*self.tau[ii-1])\n",
    "        eum = np.exp( (u-1)*self.tau[ii-1] )\n",
    "        eup = np.exp(-(u+1)*self.tau[ii-1] )\n",
    "        evm = np.exp( (v-1)*self.tau[ii-1] )\n",
    "        evp = np.exp(-(v+1)*self.tau[ii-1] )\n",
    "    \n",
    "        sig2 = self.sigma**2\n",
    "        p = ( ((eum - eup) / den) - u ) / sig2\n",
    "        q = ( ((evm - evp) / den) - v ) / sig2\n",
    "        g = self.ypps[ii-1]*p + self.ypps[ii]*q\n",
    "        res[gi] = u*self.yi[ii-1] + v*self.yi[ii] + g\n",
    "    \n",
    "        return res[0] if np .isscalar(t_) else res"
   ]
  },
  {
   "cell_type": "code",
   "execution_count": 4,
   "metadata": {},
   "outputs": [
    {
     "data": {
      "image/png": "[encoded data removed]",
      "text/plain": [
       "<matplotlib.figure.Figure at 0x10d033c88>"
      ]
     },
     "metadata": {},
     "output_type": "display_data"
    }
   ],
   "source": [
    "f = TensionSpline(xi, zi, tens)\n",
    "g = TensionSpline(xi, zi, 10*tens)\n",
    "x = np.linspace(0,10,200)\n",
    "plt.plot(x, f(x),'b')\n",
    "plt.plot(x, g(x),'g')\n",
    "plt.plot(xi, zi, 'ro')\n",
    "plt.grid(True)\n",
    "plt.show()"
   ]
  }
 ],
 "metadata": {
  "kernelspec": {
   "display_name": "Python 3",
   "language": "python",
   "name": "python3"
  },
  "language_info": {
   "codemirror_mode": {
    "name": "ipython",
    "version": 3
   },
   "file_extension": ".py",
   "mimetype": "text/x-python",
   "name": "python",
   "nbconvert_exporter": "python",
   "pygments_lexer": "ipython3",
   "version": "3.6.3"
  }
 },
 "nbformat": 4,
 "nbformat_minor": 2
}
